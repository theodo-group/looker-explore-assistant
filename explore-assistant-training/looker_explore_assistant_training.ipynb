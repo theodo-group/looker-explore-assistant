{
  "cells": [
    {
      "cell_type": "code",
      "execution_count": null,
      "metadata": {},
      "outputs": [],
      "source": [
        "# MIT License\n",
        "\n",
        "# Copyright (c) 2023 Looker Data Sciences, Inc.\n",
        "\n",
        "# Permission is hereby granted, free of charge, to any person obtaining a copy\n",
        "# of this software and associated documentation files (the \"Software\"), to deal\n",
        "# in the Software without restriction, including without limitation the rights\n",
        "# to use, copy, modify, merge, publish, distribute, sublicense, and/or sell\n",
        "# copies of the Software, and to permit persons to whom the Software is\n",
        "# furnished to do so, subject to the following conditions:\n",
        "\n",
        "# The above copyright notice and this permission notice shall be included in all\n",
        "# copies or substantial portions of the Software.\n",
        "\n",
        "# THE SOFTWARE IS PROVIDED \"AS IS\", WITHOUT WARRANTY OF ANY KIND, EXPRESS OR\n",
        "# IMPLIED, INCLUDING BUT NOT LIMITED TO THE WARRANTIES OF MERCHANTABILITY,\n",
        "# FITNESS FOR A PARTICULAR PURPOSE AND NONINFRINGEMENT. IN NO EVENT SHALL THE\n",
        "# AUTHORS OR COPYRIGHT HOLDERS BE LIABLE FOR ANY CLAIM, DAMAGES OR OTHER\n",
        "# LIABILITY, WHETHER IN AN ACTION OF CONTRACT, TORT OR OTHERWISE, ARISING FROM,\n",
        "# OUT OF OR IN CONNECTION WITH THE SOFTWARE OR THE USE OR OTHER DEALINGS IN THE\n",
        "# SOFTWARE."
      ]
    },
    {
      "cell_type": "markdown",
      "metadata": {
        "id": "7JbdO0xRwjrV"
      },
      "source": [
        "# Explore Assistant Examples Generation\n",
        "\n",
        "This notebook is a companion to the [Explore Assistant Looker + GenAI Solution](https://github.com/LukaFontanilla/looker-explore-assistant) and will take you through some example code for:\n",
        "\n",
        "\n",
        "*   Formatting Looker Explore Metadata for Prompt Stuffing\n",
        "*   Generating NLQ to Explore URL examples from your data and Looker Explore usage\n",
        "*   Categorizing those examples by different Looker query types\n",
        "\n"
      ]
    },
    {
      "cell_type": "markdown",
      "metadata": {
        "id": "B8GHaG2hz4Dr"
      },
      "source": [
        "## Install Dependencies"
      ]
    },
    {
      "cell_type": "code",
      "execution_count": 1,
      "metadata": {
        "colab": {
          "base_uri": "https://localhost:8080/"
        },
        "id": "7rcdnts_TqJy",
        "outputId": "fc4b4d55-cd08-48af-b646-e4725a00884f"
      },
      "outputs": [
        {
          "name": "stdout",
          "output_type": "stream",
          "text": [
            "Collecting looker-sdk\n",
            "  Downloading looker_sdk-24.10.0-py3-none-any.whl.metadata (7.0 kB)\n",
            "Collecting requests>=2.22 (from looker-sdk)\n",
            "  Downloading requests-2.32.3-py3-none-any.whl.metadata (4.6 kB)\n",
            "Collecting typing-extensions>=4.1.1 (from looker-sdk)\n",
            "  Downloading typing_extensions-4.12.2-py3-none-any.whl.metadata (3.0 kB)\n",
            "Collecting attrs>=20.1.0 (from looker-sdk)\n",
            "  Using cached attrs-23.2.0-py3-none-any.whl.metadata (9.5 kB)\n",
            "Collecting cattrs>=1.3 (from looker-sdk)\n",
            "  Downloading cattrs-23.2.3-py3-none-any.whl.metadata (10 kB)\n",
            "Collecting charset-normalizer<4,>=2 (from requests>=2.22->looker-sdk)\n",
            "  Downloading charset_normalizer-3.3.2-cp312-cp312-macosx_10_9_x86_64.whl.metadata (33 kB)\n",
            "Collecting idna<4,>=2.5 (from requests>=2.22->looker-sdk)\n",
            "  Downloading idna-3.7-py3-none-any.whl.metadata (9.9 kB)\n",
            "Collecting urllib3<3,>=1.21.1 (from requests>=2.22->looker-sdk)\n",
            "  Downloading urllib3-2.2.2-py3-none-any.whl.metadata (6.4 kB)\n",
            "Collecting certifi>=2017.4.17 (from requests>=2.22->looker-sdk)\n",
            "  Downloading certifi-2024.7.4-py3-none-any.whl.metadata (2.2 kB)\n",
            "Downloading looker_sdk-24.10.0-py3-none-any.whl (226 kB)\n",
            "\u001b[2K   \u001b[38;2;114;156;31m━━━━━━━━━━━━━━━━━━━━━━━━━━━━━━━━━━━━━━━━\u001b[0m \u001b[32m226.2/226.2 kB\u001b[0m \u001b[31m4.5 MB/s\u001b[0m eta \u001b[36m0:00:00\u001b[0m0m eta \u001b[36m0:00:01\u001b[0m\n",
            "\u001b[?25hUsing cached attrs-23.2.0-py3-none-any.whl (60 kB)\n",
            "Downloading cattrs-23.2.3-py3-none-any.whl (57 kB)\n",
            "\u001b[2K   \u001b[38;2;114;156;31m━━━━━━━━━━━━━━━━━━━━━━━━━━━━━━━━━━━━━━━━\u001b[0m \u001b[32m57.5/57.5 kB\u001b[0m \u001b[31m1.9 MB/s\u001b[0m eta \u001b[36m0:00:00\u001b[0m\n",
            "\u001b[?25hDownloading requests-2.32.3-py3-none-any.whl (64 kB)\n",
            "\u001b[2K   \u001b[38;2;114;156;31m━━━━━━━━━━━━━━━━━━━━━━━━━━━━━━━━━━━━━━━━\u001b[0m \u001b[32m64.9/64.9 kB\u001b[0m \u001b[31m806.4 kB/s\u001b[0m eta \u001b[36m0:00:00\u001b[0m eta \u001b[36m-:--:--\u001b[0m\n",
            "\u001b[?25hDownloading typing_extensions-4.12.2-py3-none-any.whl (37 kB)\n",
            "Downloading certifi-2024.7.4-py3-none-any.whl (162 kB)\n",
            "\u001b[2K   \u001b[38;2;114;156;31m━━━━━━━━━━━━━━━━━━━━━━━━━━━━━━━━━━━━━━━━\u001b[0m \u001b[32m163.0/163.0 kB\u001b[0m \u001b[31m5.5 MB/s\u001b[0m eta \u001b[36m0:00:00\u001b[0m\n",
            "\u001b[?25hDownloading charset_normalizer-3.3.2-cp312-cp312-macosx_10_9_x86_64.whl (122 kB)\n",
            "\u001b[2K   \u001b[38;2;114;156;31m━━━━━━━━━━━━━━━━━━━━━━━━━━━━━━━━━━━━━━━━\u001b[0m \u001b[32m122.2/122.2 kB\u001b[0m \u001b[31m3.9 MB/s\u001b[0m eta \u001b[36m0:00:00\u001b[0m\n",
            "\u001b[?25hDownloading idna-3.7-py3-none-any.whl (66 kB)\n",
            "\u001b[2K   \u001b[38;2;114;156;31m━━━━━━━━━━━━━━━━━━━━━━━━━━━━━━━━━━━━━━━━\u001b[0m \u001b[32m66.8/66.8 kB\u001b[0m \u001b[31m2.3 MB/s\u001b[0m eta \u001b[36m0:00:00\u001b[0m\n",
            "\u001b[?25hDownloading urllib3-2.2.2-py3-none-any.whl (121 kB)\n",
            "\u001b[2K   \u001b[38;2;114;156;31m━━━━━━━━━━━━━━━━━━━━━━━━━━━━━━━━━━━━━━━━\u001b[0m \u001b[32m121.4/121.4 kB\u001b[0m \u001b[31m11.0 MB/s\u001b[0m eta \u001b[36m0:00:00\u001b[0m\n",
            "\u001b[?25hInstalling collected packages: urllib3, typing-extensions, idna, charset-normalizer, certifi, attrs, requests, cattrs, looker-sdk\n",
            "Successfully installed attrs-23.2.0 cattrs-23.2.3 certifi-2024.7.4 charset-normalizer-3.3.2 idna-3.7 looker-sdk-24.10.0 requests-2.32.3 typing-extensions-4.12.2 urllib3-2.2.2\n",
            "Note: you may need to restart the kernel to use updated packages.\n",
            "Collecting google-cloud-aiplatform\n",
            "  Downloading google_cloud_aiplatform-1.58.0-py2.py3-none-any.whl.metadata (31 kB)\n",
            "Collecting google-api-core!=2.0.*,!=2.1.*,!=2.2.*,!=2.3.*,!=2.4.*,!=2.5.*,!=2.6.*,!=2.7.*,<3.0.0dev,>=1.34.1 (from google-api-core[grpc]!=2.0.*,!=2.1.*,!=2.2.*,!=2.3.*,!=2.4.*,!=2.5.*,!=2.6.*,!=2.7.*,<3.0.0dev,>=1.34.1->google-cloud-aiplatform)\n",
            "  Downloading google_api_core-2.19.1-py3-none-any.whl.metadata (2.7 kB)\n",
            "Collecting google-auth<3.0.0dev,>=2.14.1 (from google-cloud-aiplatform)\n",
            "  Downloading google_auth-2.31.0-py2.py3-none-any.whl.metadata (4.7 kB)\n",
            "Collecting proto-plus<2.0.0dev,>=1.22.0 (from google-cloud-aiplatform)\n",
            "  Downloading proto_plus-1.24.0-py3-none-any.whl.metadata (2.2 kB)\n",
            "Collecting protobuf!=3.20.0,!=3.20.1,!=4.21.0,!=4.21.1,!=4.21.2,!=4.21.3,!=4.21.4,!=4.21.5,<5.0.0dev,>=3.19.5 (from google-cloud-aiplatform)\n",
            "  Using cached protobuf-4.25.3-cp37-abi3-macosx_10_9_universal2.whl.metadata (541 bytes)\n",
            "Requirement already satisfied: packaging>=14.3 in /Users/quentinchuret/m33/looker-explore-assistant/.venv/lib/python3.12/site-packages (from google-cloud-aiplatform) (24.1)\n",
            "Collecting google-cloud-storage<3.0.0dev,>=1.32.0 (from google-cloud-aiplatform)\n",
            "  Downloading google_cloud_storage-2.17.0-py2.py3-none-any.whl.metadata (6.6 kB)\n",
            "Collecting google-cloud-bigquery!=3.20.0,<4.0.0dev,>=1.15.0 (from google-cloud-aiplatform)\n",
            "  Downloading google_cloud_bigquery-3.25.0-py2.py3-none-any.whl.metadata (8.9 kB)\n",
            "Collecting google-cloud-resource-manager<3.0.0dev,>=1.3.3 (from google-cloud-aiplatform)\n",
            "  Using cached google_cloud_resource_manager-1.12.3-py2.py3-none-any.whl.metadata (5.3 kB)\n",
            "Collecting shapely<3.0.0dev (from google-cloud-aiplatform)\n",
            "  Downloading shapely-2.0.4-cp312-cp312-macosx_10_9_x86_64.whl.metadata (7.0 kB)\n",
            "Collecting pydantic<3 (from google-cloud-aiplatform)\n",
            "  Downloading pydantic-2.8.2-py3-none-any.whl.metadata (125 kB)\n",
            "\u001b[2K     \u001b[38;2;114;156;31m━━━━━━━━━━━━━━━━━━━━━━━━━━━━━━━━━━━━━━━\u001b[0m \u001b[32m125.2/125.2 kB\u001b[0m \u001b[31m2.8 MB/s\u001b[0m eta \u001b[36m0:00:00\u001b[0m[36m0:00:01\u001b[0m\n",
            "\u001b[?25hCollecting docstring-parser<1 (from google-cloud-aiplatform)\n",
            "  Using cached docstring_parser-0.16-py3-none-any.whl.metadata (3.0 kB)\n",
            "Collecting googleapis-common-protos<2.0.dev0,>=1.56.2 (from google-api-core!=2.0.*,!=2.1.*,!=2.2.*,!=2.3.*,!=2.4.*,!=2.5.*,!=2.6.*,!=2.7.*,<3.0.0dev,>=1.34.1->google-api-core[grpc]!=2.0.*,!=2.1.*,!=2.2.*,!=2.3.*,!=2.4.*,!=2.5.*,!=2.6.*,!=2.7.*,<3.0.0dev,>=1.34.1->google-cloud-aiplatform)\n",
            "  Downloading googleapis_common_protos-1.63.2-py2.py3-none-any.whl.metadata (1.5 kB)\n",
            "Requirement already satisfied: requests<3.0.0.dev0,>=2.18.0 in /Users/quentinchuret/m33/looker-explore-assistant/.venv/lib/python3.12/site-packages (from google-api-core!=2.0.*,!=2.1.*,!=2.2.*,!=2.3.*,!=2.4.*,!=2.5.*,!=2.6.*,!=2.7.*,<3.0.0dev,>=1.34.1->google-api-core[grpc]!=2.0.*,!=2.1.*,!=2.2.*,!=2.3.*,!=2.4.*,!=2.5.*,!=2.6.*,!=2.7.*,<3.0.0dev,>=1.34.1->google-cloud-aiplatform) (2.32.3)\n",
            "Collecting grpcio<2.0dev,>=1.33.2 (from google-api-core[grpc]!=2.0.*,!=2.1.*,!=2.2.*,!=2.3.*,!=2.4.*,!=2.5.*,!=2.6.*,!=2.7.*,<3.0.0dev,>=1.34.1->google-cloud-aiplatform)\n",
            "  Downloading grpcio-1.64.1-cp312-cp312-macosx_10_9_universal2.whl.metadata (3.3 kB)\n",
            "Collecting grpcio-status<2.0.dev0,>=1.33.2 (from google-api-core[grpc]!=2.0.*,!=2.1.*,!=2.2.*,!=2.3.*,!=2.4.*,!=2.5.*,!=2.6.*,!=2.7.*,<3.0.0dev,>=1.34.1->google-cloud-aiplatform)\n",
            "  Downloading grpcio_status-1.64.1-py3-none-any.whl.metadata (1.1 kB)\n",
            "Collecting cachetools<6.0,>=2.0.0 (from google-auth<3.0.0dev,>=2.14.1->google-cloud-aiplatform)\n",
            "  Using cached cachetools-5.3.3-py3-none-any.whl.metadata (5.3 kB)\n",
            "Collecting pyasn1-modules>=0.2.1 (from google-auth<3.0.0dev,>=2.14.1->google-cloud-aiplatform)\n",
            "  Downloading pyasn1_modules-0.4.0-py3-none-any.whl.metadata (3.4 kB)\n",
            "Collecting rsa<5,>=3.1.4 (from google-auth<3.0.0dev,>=2.14.1->google-cloud-aiplatform)\n",
            "  Downloading rsa-4.9-py3-none-any.whl.metadata (4.2 kB)\n",
            "Collecting google-cloud-core<3.0.0dev,>=1.6.0 (from google-cloud-bigquery!=3.20.0,<4.0.0dev,>=1.15.0->google-cloud-aiplatform)\n",
            "  Using cached google_cloud_core-2.4.1-py2.py3-none-any.whl.metadata (2.7 kB)\n",
            "Collecting google-resumable-media<3.0dev,>=0.6.0 (from google-cloud-bigquery!=3.20.0,<4.0.0dev,>=1.15.0->google-cloud-aiplatform)\n",
            "  Downloading google_resumable_media-2.7.1-py2.py3-none-any.whl.metadata (2.2 kB)\n",
            "Requirement already satisfied: python-dateutil<3.0dev,>=2.7.2 in /Users/quentinchuret/m33/looker-explore-assistant/.venv/lib/python3.12/site-packages (from google-cloud-bigquery!=3.20.0,<4.0.0dev,>=1.15.0->google-cloud-aiplatform) (2.9.0.post0)\n",
            "Collecting grpc-google-iam-v1<1.0.0dev,>=0.12.4 (from google-cloud-resource-manager<3.0.0dev,>=1.3.3->google-cloud-aiplatform)\n",
            "  Downloading grpc_google_iam_v1-0.13.1-py2.py3-none-any.whl.metadata (3.3 kB)\n",
            "Collecting google-crc32c<2.0dev,>=1.0 (from google-cloud-storage<3.0.0dev,>=1.32.0->google-cloud-aiplatform)\n",
            "  Downloading google-crc32c-1.5.0.tar.gz (12 kB)\n",
            "  Installing build dependencies ... \u001b[?25ldone\n",
            "\u001b[?25h  Getting requirements to build wheel ... \u001b[?25ldone\n",
            "\u001b[?25h  Preparing metadata (pyproject.toml) ... \u001b[?25ldone\n",
            "\u001b[?25hCollecting annotated-types>=0.4.0 (from pydantic<3->google-cloud-aiplatform)\n",
            "  Downloading annotated_types-0.7.0-py3-none-any.whl.metadata (15 kB)\n",
            "Collecting pydantic-core==2.20.1 (from pydantic<3->google-cloud-aiplatform)\n",
            "  Downloading pydantic_core-2.20.1-cp312-cp312-macosx_10_12_x86_64.whl.metadata (6.6 kB)\n",
            "Requirement already satisfied: typing-extensions>=4.6.1 in /Users/quentinchuret/m33/looker-explore-assistant/.venv/lib/python3.12/site-packages (from pydantic<3->google-cloud-aiplatform) (4.12.2)\n",
            "Collecting numpy<3,>=1.14 (from shapely<3.0.0dev->google-cloud-aiplatform)\n",
            "  Downloading numpy-2.0.0-cp312-cp312-macosx_14_0_x86_64.whl.metadata (60 kB)\n",
            "\u001b[2K     \u001b[38;2;114;156;31m━━━━━━━━━━━━━━━━━━━━━━━━━━━━━━━━━━━━━━━━\u001b[0m \u001b[32m60.9/60.9 kB\u001b[0m \u001b[31m1.9 MB/s\u001b[0m eta \u001b[36m0:00:00\u001b[0m\n",
            "\u001b[?25hINFO: pip is looking at multiple versions of grpcio-status to determine which version is compatible with other requirements. This could take a while.\n",
            "Collecting grpcio-status<2.0.dev0,>=1.33.2 (from google-api-core[grpc]!=2.0.*,!=2.1.*,!=2.2.*,!=2.3.*,!=2.4.*,!=2.5.*,!=2.6.*,!=2.7.*,<3.0.0dev,>=1.34.1->google-cloud-aiplatform)\n",
            "  Downloading grpcio_status-1.64.0-py3-none-any.whl.metadata (1.1 kB)\n",
            "  Downloading grpcio_status-1.63.0-py3-none-any.whl.metadata (1.1 kB)\n",
            "  Downloading grpcio_status-1.62.2-py3-none-any.whl.metadata (1.3 kB)\n",
            "Collecting pyasn1<0.7.0,>=0.4.6 (from pyasn1-modules>=0.2.1->google-auth<3.0.0dev,>=2.14.1->google-cloud-aiplatform)\n",
            "  Downloading pyasn1-0.6.0-py2.py3-none-any.whl.metadata (8.3 kB)\n",
            "Requirement already satisfied: six>=1.5 in /Users/quentinchuret/m33/looker-explore-assistant/.venv/lib/python3.12/site-packages (from python-dateutil<3.0dev,>=2.7.2->google-cloud-bigquery!=3.20.0,<4.0.0dev,>=1.15.0->google-cloud-aiplatform) (1.16.0)\n",
            "Requirement already satisfied: charset-normalizer<4,>=2 in /Users/quentinchuret/m33/looker-explore-assistant/.venv/lib/python3.12/site-packages (from requests<3.0.0.dev0,>=2.18.0->google-api-core!=2.0.*,!=2.1.*,!=2.2.*,!=2.3.*,!=2.4.*,!=2.5.*,!=2.6.*,!=2.7.*,<3.0.0dev,>=1.34.1->google-api-core[grpc]!=2.0.*,!=2.1.*,!=2.2.*,!=2.3.*,!=2.4.*,!=2.5.*,!=2.6.*,!=2.7.*,<3.0.0dev,>=1.34.1->google-cloud-aiplatform) (3.3.2)\n",
            "Requirement already satisfied: idna<4,>=2.5 in /Users/quentinchuret/m33/looker-explore-assistant/.venv/lib/python3.12/site-packages (from requests<3.0.0.dev0,>=2.18.0->google-api-core!=2.0.*,!=2.1.*,!=2.2.*,!=2.3.*,!=2.4.*,!=2.5.*,!=2.6.*,!=2.7.*,<3.0.0dev,>=1.34.1->google-api-core[grpc]!=2.0.*,!=2.1.*,!=2.2.*,!=2.3.*,!=2.4.*,!=2.5.*,!=2.6.*,!=2.7.*,<3.0.0dev,>=1.34.1->google-cloud-aiplatform) (3.7)\n",
            "Requirement already satisfied: urllib3<3,>=1.21.1 in /Users/quentinchuret/m33/looker-explore-assistant/.venv/lib/python3.12/site-packages (from requests<3.0.0.dev0,>=2.18.0->google-api-core!=2.0.*,!=2.1.*,!=2.2.*,!=2.3.*,!=2.4.*,!=2.5.*,!=2.6.*,!=2.7.*,<3.0.0dev,>=1.34.1->google-api-core[grpc]!=2.0.*,!=2.1.*,!=2.2.*,!=2.3.*,!=2.4.*,!=2.5.*,!=2.6.*,!=2.7.*,<3.0.0dev,>=1.34.1->google-cloud-aiplatform) (2.2.2)\n",
            "Requirement already satisfied: certifi>=2017.4.17 in /Users/quentinchuret/m33/looker-explore-assistant/.venv/lib/python3.12/site-packages (from requests<3.0.0.dev0,>=2.18.0->google-api-core!=2.0.*,!=2.1.*,!=2.2.*,!=2.3.*,!=2.4.*,!=2.5.*,!=2.6.*,!=2.7.*,<3.0.0dev,>=1.34.1->google-api-core[grpc]!=2.0.*,!=2.1.*,!=2.2.*,!=2.3.*,!=2.4.*,!=2.5.*,!=2.6.*,!=2.7.*,<3.0.0dev,>=1.34.1->google-cloud-aiplatform) (2024.7.4)\n",
            "Downloading google_cloud_aiplatform-1.58.0-py2.py3-none-any.whl (5.1 MB)\n",
            "\u001b[2K   \u001b[38;2;114;156;31m━━━━━━━━━━━━━━━━━━━━━━━━━━━━━━━━━━━━━━━━\u001b[0m \u001b[32m5.1/5.1 MB\u001b[0m \u001b[31m17.6 MB/s\u001b[0m eta \u001b[36m0:00:00\u001b[0mm eta \u001b[36m0:00:01\u001b[0m0:01\u001b[0m:01\u001b[0m\n",
            "\u001b[?25hUsing cached docstring_parser-0.16-py3-none-any.whl (36 kB)\n",
            "Downloading google_api_core-2.19.1-py3-none-any.whl (139 kB)\n",
            "\u001b[2K   \u001b[38;2;114;156;31m━━━━━━━━━━━━━━━━━━━━━━━━━━━━━━━━━━━━━━━━\u001b[0m \u001b[32m139.4/139.4 kB\u001b[0m \u001b[31m5.1 MB/s\u001b[0m eta \u001b[36m0:00:00\u001b[0m\n",
            "\u001b[?25hDownloading google_auth-2.31.0-py2.py3-none-any.whl (194 kB)\n",
            "\u001b[2K   \u001b[38;2;114;156;31m━━━━━━━━━━━━━━━━━━━━━━━━━━━━━━━━━━━━━━━━\u001b[0m \u001b[32m194.6/194.6 kB\u001b[0m \u001b[31m6.3 MB/s\u001b[0m eta \u001b[36m0:00:00\u001b[0m\n",
            "\u001b[?25hDownloading google_cloud_bigquery-3.25.0-py2.py3-none-any.whl (239 kB)\n",
            "\u001b[2K   \u001b[38;2;114;156;31m━━━━━━━━━━━━━━━━━━━━━━━━━━━━━━━━━━━━━━━━\u001b[0m \u001b[32m239.0/239.0 kB\u001b[0m \u001b[31m4.8 MB/s\u001b[0m eta \u001b[36m0:00:00\u001b[0m\u001b[36m0:00:01\u001b[0m\n",
            "\u001b[?25hUsing cached google_cloud_resource_manager-1.12.3-py2.py3-none-any.whl (333 kB)\n",
            "Downloading google_cloud_storage-2.17.0-py2.py3-none-any.whl (126 kB)\n",
            "\u001b[2K   \u001b[38;2;114;156;31m━━━━━━━━━━━━━━━━━━━━━━━━━━━━━━━━━━━━━━━━\u001b[0m \u001b[32m126.5/126.5 kB\u001b[0m \u001b[31m4.4 MB/s\u001b[0m eta \u001b[36m0:00:00\u001b[0m\n",
            "\u001b[?25hDownloading proto_plus-1.24.0-py3-none-any.whl (50 kB)\n",
            "\u001b[2K   \u001b[38;2;114;156;31m━━━━━━━━━━━━━━━━━━━━━━━━━━━━━━━━━━━━━━━━\u001b[0m \u001b[32m50.1/50.1 kB\u001b[0m \u001b[31m1.6 MB/s\u001b[0m eta \u001b[36m0:00:00\u001b[0m\n",
            "\u001b[?25hUsing cached protobuf-4.25.3-cp37-abi3-macosx_10_9_universal2.whl (394 kB)\n",
            "Downloading pydantic-2.8.2-py3-none-any.whl (423 kB)\n",
            "\u001b[2K   \u001b[38;2;114;156;31m━━━━━━━━━━━━━━━━━━━━━━━━━━━━━━━━━━━━━━━━\u001b[0m \u001b[32m423.9/423.9 kB\u001b[0m \u001b[31m12.7 MB/s\u001b[0m eta \u001b[36m0:00:00\u001b[0m\n",
            "\u001b[?25hDownloading pydantic_core-2.20.1-cp312-cp312-macosx_10_12_x86_64.whl (1.8 MB)\n",
            "\u001b[2K   \u001b[38;2;114;156;31m━━━━━━━━━━━━━━━━━━━━━━━━━━━━━━━━━━━━━━━━\u001b[0m \u001b[32m1.8/1.8 MB\u001b[0m \u001b[31m21.7 MB/s\u001b[0m eta \u001b[36m0:00:00\u001b[0mm eta \u001b[36m0:00:01\u001b[0m[36m0:00:01\u001b[0m\n",
            "\u001b[?25hDownloading shapely-2.0.4-cp312-cp312-macosx_10_9_x86_64.whl (1.4 MB)\n",
            "\u001b[2K   \u001b[38;2;114;156;31m━━━━━━━━━━━━━━━━━━━━━━━━━━━━━━━━━━━━━━━━\u001b[0m \u001b[32m1.4/1.4 MB\u001b[0m \u001b[31m18.7 MB/s\u001b[0m eta \u001b[36m0:00:00\u001b[0mm eta \u001b[36m0:00:01\u001b[0m0:01\u001b[0m\n",
            "\u001b[?25hDownloading annotated_types-0.7.0-py3-none-any.whl (13 kB)\n",
            "Using cached cachetools-5.3.3-py3-none-any.whl (9.3 kB)\n",
            "Using cached google_cloud_core-2.4.1-py2.py3-none-any.whl (29 kB)\n",
            "Downloading google_resumable_media-2.7.1-py2.py3-none-any.whl (81 kB)\n",
            "\u001b[2K   \u001b[38;2;114;156;31m━━━━━━━━━━━━━━━━━━━━━━━━━━━━━━━━━━━━━━━━\u001b[0m \u001b[32m81.2/81.2 kB\u001b[0m \u001b[31m2.7 MB/s\u001b[0m eta \u001b[36m0:00:00\u001b[0m\n",
            "\u001b[?25hDownloading googleapis_common_protos-1.63.2-py2.py3-none-any.whl (220 kB)\n",
            "\u001b[2K   \u001b[38;2;114;156;31m━━━━━━━━━━━━━━━━━━━━━━━━━━━━━━━━━━━━━━━━\u001b[0m \u001b[32m220.0/220.0 kB\u001b[0m \u001b[31m7.6 MB/s\u001b[0m eta \u001b[36m0:00:00\u001b[0m\n",
            "\u001b[?25hDownloading grpc_google_iam_v1-0.13.1-py2.py3-none-any.whl (24 kB)\n",
            "Downloading grpcio-1.64.1-cp312-cp312-macosx_10_9_universal2.whl (10.3 MB)\n",
            "\u001b[2K   \u001b[38;2;114;156;31m━━━━━━━━━━━━━━━━━━━━━━━━━━━━━━━━━━━━━━━━\u001b[0m \u001b[32m10.3/10.3 MB\u001b[0m \u001b[31m27.6 MB/s\u001b[0m eta \u001b[36m0:00:00\u001b[0mm eta \u001b[36m0:00:01\u001b[0m[36m0:00:01\u001b[0m\n",
            "\u001b[?25hDownloading grpcio_status-1.62.2-py3-none-any.whl (14 kB)\n",
            "Downloading numpy-2.0.0-cp312-cp312-macosx_14_0_x86_64.whl (6.6 MB)\n",
            "\u001b[2K   \u001b[38;2;114;156;31m━━━━━━━━━━━━━━━━━━━━━━━━━━━━━━━━━━━━━━━━\u001b[0m \u001b[32m6.6/6.6 MB\u001b[0m \u001b[31m23.8 MB/s\u001b[0m eta \u001b[36m0:00:00\u001b[0mm eta \u001b[36m0:00:01\u001b[0m0:01\u001b[0m:01\u001b[0m\n",
            "\u001b[?25hDownloading pyasn1_modules-0.4.0-py3-none-any.whl (181 kB)\n",
            "\u001b[2K   \u001b[38;2;114;156;31m━━━━━━━━━━━━━━━━━━━━━━━━━━━━━━━━━━━━━━━━\u001b[0m \u001b[32m181.2/181.2 kB\u001b[0m \u001b[31m6.2 MB/s\u001b[0m eta \u001b[36m0:00:00\u001b[0m\n",
            "\u001b[?25hUsing cached rsa-4.9-py3-none-any.whl (34 kB)\n",
            "Downloading pyasn1-0.6.0-py2.py3-none-any.whl (85 kB)\n",
            "\u001b[2K   \u001b[38;2;114;156;31m━━━━━━━━━━━━━━━━━━━━━━━━━━━━━━━━━━━━━━━━\u001b[0m \u001b[32m85.3/85.3 kB\u001b[0m \u001b[31m2.8 MB/s\u001b[0m eta \u001b[36m0:00:00\u001b[0m\n",
            "\u001b[?25hBuilding wheels for collected packages: google-crc32c\n",
            "  Building wheel for google-crc32c (pyproject.toml) ... \u001b[?25ldone\n",
            "\u001b[?25h  Created wheel for google-crc32c: filename=google_crc32c-1.5.0-py3-none-any.whl size=13030 sha256=cc1da51a17c456c29138d1163da477d99ff141d31f92f6690954a2ebc4852fc0\n",
            "  Stored in directory: /Users/quentinchuret/Library/Caches/pip/wheels/40/b9/2e/089df51c5e6f7cda282c650457a1d9a7a55bf6386d8de8bf3d\n",
            "Successfully built google-crc32c\n",
            "Installing collected packages: pydantic-core, pyasn1, protobuf, numpy, grpcio, google-crc32c, docstring-parser, cachetools, annotated-types, shapely, rsa, pydantic, pyasn1-modules, proto-plus, googleapis-common-protos, google-resumable-media, grpcio-status, google-auth, grpc-google-iam-v1, google-api-core, google-cloud-core, google-cloud-storage, google-cloud-resource-manager, google-cloud-bigquery, google-cloud-aiplatform\n",
            "Successfully installed annotated-types-0.7.0 cachetools-5.3.3 docstring-parser-0.16 google-api-core-2.19.1 google-auth-2.31.0 google-cloud-aiplatform-1.58.0 google-cloud-bigquery-3.25.0 google-cloud-core-2.4.1 google-cloud-resource-manager-1.12.3 google-cloud-storage-2.17.0 google-crc32c-1.5.0 google-resumable-media-2.7.1 googleapis-common-protos-1.63.2 grpc-google-iam-v1-0.13.1 grpcio-1.64.1 grpcio-status-1.62.2 numpy-2.0.0 proto-plus-1.24.0 protobuf-4.25.3 pyasn1-0.6.0 pyasn1-modules-0.4.0 pydantic-2.8.2 pydantic-core-2.20.1 rsa-4.9 shapely-2.0.4\n",
            "Note: you may need to restart the kernel to use updated packages.\n"
          ]
        }
      ],
      "source": [
        "%pip install looker-sdk\n",
        "%pip install --upgrade google-cloud-aiplatform"
      ]
    },
    {
      "cell_type": "markdown",
      "metadata": {
        "id": "dDTunjYj0D21"
      },
      "source": [
        "## Import Required Packages"
      ]
    },
    {
      "cell_type": "code",
      "execution_count": 2,
      "metadata": {
        "id": "UnOd9duf6tjZ"
      },
      "outputs": [],
      "source": [
        "import looker_sdk\n",
        "import vertexai\n",
        "from vertexai.preview.generative_models import GenerativeModel, GenerationConfig\n",
        "from looker_sdk import models40 as models, error\n",
        "import configparser\n",
        "import json\n",
        "import urllib.parse\n",
        "import re"
      ]
    },
    {
      "cell_type": "markdown",
      "metadata": {
        "id": "H8hSwYQ00HIU"
      },
      "source": [
        "## Configure Application Default Credentials with GCloud\n",
        "\n",
        "This [Exports ADC credentials](https://cloud.google.com/docs/authentication/application-default-credentials) to your environment. ***Make sure to set the quota project to a GCP project that has the Vertex AI API enabled.***"
      ]
    },
    {
      "cell_type": "code",
      "execution_count": 3,
      "metadata": {
        "colab": {
          "base_uri": "https://localhost:8080/"
        },
        "id": "uVADeAsor7FR",
        "outputId": "c6602f75-1c6b-4ad0-c913-45873b59acc2"
      },
      "outputs": [
        {
          "name": "stdout",
          "output_type": "stream",
          "text": [
            "Your browser has been opened to visit:\n",
            "\n",
            "    https://accounts.google.com/o/oauth2/auth?response_type=code&client_id=764086051850-6qr4p6gpi6hn506pt8ejuq83di341hur.apps.googleusercontent.com&redirect_uri=http%3A%2F%2Flocalhost%3A8085%2F&scope=openid+https%3A%2F%2Fwww.googleapis.com%2Fauth%2Fuserinfo.email+https%3A%2F%2Fwww.googleapis.com%2Fauth%2Fcloud-platform+https%3A%2F%2Fwww.googleapis.com%2Fauth%2Fsqlservice.login&state=CWojzIy4VaGkBHBs529aWnSP5xSfpc&access_type=offline&code_challenge=BjJytUqYFUaDuRuqHbhraygzCBBUwMP2a2lnt_sFkA0&code_challenge_method=S256\n",
            "\n",
            "\n",
            "Credentials saved to file: [/Users/quentinchuret/.config/gcloud/application_default_credentials.json]\n",
            "\n",
            "These credentials will be used by any library that requests Application Default Credentials (ADC).\n",
            "\n",
            "Quota project \"m33-datawarehouse-silver\" was added to ADC which can be used by Google client libraries for billing and quota. Note that some services may still bill the project owning the resource.\n",
            "\n",
            "\n",
            "Updates are available for some Google Cloud CLI components.  To install them,\n",
            "please run:\n",
            "  $ gcloud components update\n",
            "\n",
            "\n",
            "\n",
            "To take a quick anonymous survey, run:\n",
            "  $ gcloud survey\n",
            "\n"
          ]
        }
      ],
      "source": [
        "!gcloud auth application-default login"
      ]
    },
    {
      "cell_type": "code",
      "execution_count": 4,
      "metadata": {
        "colab": {
          "base_uri": "https://localhost:8080/"
        },
        "id": "YUGBr03ZsEi4",
        "outputId": "48a2455b-e81c-4b4a-e176-424b308aac72"
      },
      "outputs": [
        {
          "name": "stdout",
          "output_type": "stream",
          "text": [
            "\u001b[1;33mWARNING:\u001b[0m Your active project does not match the quota project in your local Application Default Credentials file. This might result in unexpected quota issues.\n",
            "\n",
            "To update your Application Default Credentials quota project, use the `gcloud auth application-default set-quota-project` command.\n",
            "\u001b[1;33mWARNING:\u001b[0m You do not appear to have access to project [looker-private-demo] or it does not exist.\n",
            "Are you sure you wish to set property [core/project] to looker-private-demo?\n",
            "\n",
            "Do you want to continue (Y/n)?  ^C\n",
            "\n",
            "\n",
            "Command killed by keyboard interrupt\n",
            "\n",
            "\u001b[1;31mERROR:\u001b[0m (gcloud.auth.application-default.set-quota-project) User [quentinch@theodo.fr] does not have permission to access projects instance [looker-private-demo:testIamPermissions] (or it may not exist): Caller does not have required permission to use project looker-private-demo. Grant the caller the roles/serviceusage.serviceUsageConsumer role, or a custom role with the serviceusage.services.use permission, by visiting https://console.developers.google.com/iam-admin/iam/project?project=looker-private-demo and then retry. Propagation of the new permission may take a few minutes.\n",
            "- '@type': type.googleapis.com/google.rpc.Help\n",
            "  links:\n",
            "  - description: Google developer console IAM admin\n",
            "    url: https://console.developers.google.com/iam-admin/iam/project?project=looker-private-demo\n",
            "- '@type': type.googleapis.com/google.rpc.ErrorInfo\n",
            "  domain: googleapis.com\n",
            "  metadata:\n",
            "    consumer: projects/looker-private-demo\n",
            "    service: cloudresourcemanager.googleapis.com\n",
            "  reason: USER_PROJECT_DENIED\n"
          ]
        }
      ],
      "source": [
        "!gcloud config set project looker-private-demo\n",
        "!gcloud auth application-default set-quota-project looker-private-demo"
      ]
    },
    {
      "cell_type": "markdown",
      "metadata": {
        "id": "10e3sC8y0gGT"
      },
      "source": [
        "## Setup Looker SDK\n",
        "\n",
        "Steps for configuring the Looker Python SDK:\n",
        "\n",
        "\n",
        "1.   Create a file named `looker.ini`\n",
        "2.   Using the example below, fill in the variables as they are for your environment. ***You will need Looker API credentials for a user that has at least `explore` level permissions.***\n",
        "2.   Upload that file into your Colab Notebook\n",
        "\n",
        "\n",
        "`looker_example.ini`\n",
        "```\n",
        "[Looker]\n",
        "base_url=\n",
        "client_id=\n",
        "client_secret=\n",
        "verify_ssl=true\n",
        "```\n",
        "\n",
        "\n",
        "\n"
      ]
    },
    {
      "cell_type": "code",
      "execution_count": 10,
      "metadata": {
        "id": "z77fb26l7WU8"
      },
      "outputs": [],
      "source": [
        "sdk = looker_sdk.init40('looker.ini')"
      ]
    },
    {
      "cell_type": "markdown",
      "metadata": {
        "id": "_LwTOEam3Fht"
      },
      "source": [
        "## Setup Vertex Python SDK with Gemini Model\n",
        "\n",
        "Please set the following variables prior to running the cell:\n",
        "\n"
      ]
    },
    {
      "cell_type": "code",
      "execution_count": 36,
      "metadata": {
        "id": "cLkJluszslz3"
      },
      "outputs": [],
      "source": [
        "project_id = 'm33-datawarehouse-silver' # @param {type:\"string\"}\n",
        "location = 'us-central1' # @param {type:\"string\"}\n",
        "\n",
        "prompt = '''You are a specialized assistant that translates Looker Explore query URL's into natural language questions. By reading the different parameters of the url (like the fields used, filters, etc.) you are able to generate a natural language question.\n",
        "Please keep these responses short and concise using 1-2 sentences max in your repsonse. Make sure to generate a response that sounds like it's coming from an average person and not a data analyst who is very familiar with the data. Each request will contain an \"input\" and an \"output\" field. The \"output\" field will be the Looker Explore query url. The \"input\" field will be the natural language question that you will fill in/generate. Here is an example of a properly formatted response:\n",
        "Example:\n",
        "{\"input\": \"customer with lifetime revenue > 100\", \"output\": \"fields=user_order_facts.lifetime_revenue&f[user_order_facts.lifetime_revenue]=>100&sorts=user_order_facts.lifetime_revenue desc 0&limit=500\"}\n",
        "\n",
        "Here is the output of the request. Please generate a natural language question based on the output. Just give me the natural language question that you would ask based on the output.\n",
        "'''\n",
        "\n",
        "parameters = {\"max_output_tokens\": 2500, \"temperature\": 0.2, \"candidate_count\": 1}\n",
        "vertexai.init(project=project_id, location=location)\n",
        "\n",
        "def generate_input(request):\n",
        "    model = GenerativeModel(\"gemini-pro\")\n",
        "    # make prediction to generate Looker Explore URL\n",
        "    response =  model.generate_content(\n",
        "        contents=prompt + request,\n",
        "        generation_config=GenerationConfig(\n",
        "            temperature=0.2,\n",
        "            top_p=0.8,\n",
        "            top_k=40,\n",
        "            max_output_tokens=1000,\n",
        "            candidate_count=1\n",
        "        )\n",
        "    )\n",
        "\n",
        "    return response.text"
      ]
    },
    {
      "cell_type": "markdown",
      "metadata": {
        "id": "jzYmIxOa5Ghm"
      },
      "source": [
        "## Format Looker Explore Metadata for Prompt Stuffing\n",
        "\n",
        "The next two cells provide the Looker Explore Metadata the LLM needs to be able to generate Looker Explore URL's from natural language. This is all done through Prompt Stuffing.\n",
        "\n",
        "\n",
        "*   Fetches all the field metadata from the LookML model for a given Explore\n",
        "*   Generates two arrays containing all the measures and dimensions with the name, type, description and any other relevant attribute you'd like to include\n",
        "*   Formats that into a structured text variable and writes it to a txt file in the format of `model::explore.txt`\n",
        "\n",
        "\n",
        "\n"
      ]
    },
    {
      "cell_type": "code",
      "execution_count": 26,
      "metadata": {
        "id": "E0ycyL-Z63Id"
      },
      "outputs": [],
      "source": [
        "def fetchExploreMetadata(model,explore,fields):\n",
        "  data = sdk.lookml_model_explore(model,explore,fields)\n",
        "\n",
        "  # Dimensions\n",
        "  dimensions = []\n",
        "  for field in data.fields.dimensions:\n",
        "    dimensions.append(f\"name: {field.name}, type: {field.type}, description: {field.description} \\n\")\n",
        "\n",
        "  # # Measures\n",
        "  measures = []\n",
        "  for field in data.fields.measures:\n",
        "    measures.append(f\"name: {field.name}, type: {field.type}, description: {field.description} \\n\")\n",
        "\n",
        "  return {\n",
        "      \"dimensions\": dimensions,\n",
        "      \"measures\": measures\n",
        "  }\n",
        "\n",
        "\n",
        "def formatExploreMetadata(data):\n",
        "  return f\"\"\"\n",
        "  Dimensions Used to group by information:\\n {''.join(data['dimensions'])}\n",
        "  Measures are used to perform calculations/aggregations (if top, bottom, total, sum, etc. are used include a measure):\\n {''.join(data['measures'])}\n",
        "  \"\"\"\n"
      ]
    },
    {
      "cell_type": "code",
      "execution_count": 27,
      "metadata": {
        "id": "uwewxfku66i4"
      },
      "outputs": [],
      "source": [
        "model = 'sales' # @param {type:\"string\"}\n",
        "explore = 'deals' # @param {type:\"string\"}\n",
        "\n",
        "data = fetchExploreMetadata(model, explore, 'fields')\n",
        "\n",
        "with open(f\"./{model}::{explore}.txt\", \"w\") as f:\n",
        "  f.write(formatExploreMetadata(data))"
      ]
    },
    {
      "cell_type": "markdown",
      "metadata": {
        "id": "aNUphl0i6WtF"
      },
      "source": [
        "## Setup Explore URL Parser & Categorizer\n",
        "\n",
        "The following cells setup the functions used to generate commmon and representative Looker Explore query URL's that are labeled via Gen AI for the LLM to use in it's reasoning.\n",
        "\n",
        "*   CONSTANTS: Regex patterns for Looker Query filter string parsing\n",
        "*   LOOKER QUERY METHODS: The functions for fetching historical queries and parsing their metadata for an expanded URL\n",
        "*   LOOKER URL PARSER FUNCTIONS: Functions used to parse and categorize example URL's into specific categories of queries\n",
        "\n",
        "\n",
        "\n"
      ]
    },
    {
      "cell_type": "code",
      "execution_count": 28,
      "metadata": {
        "id": "r0bmWXonxxM1"
      },
      "outputs": [],
      "source": [
        "### CONSTANTS\n",
        "\n",
        "# Time / Date Regex Patterns\n",
        "time_relative_pattern = r\"(\\d+)\\s+(month|week|day|year)?(?:\\s+ago)?\"\n",
        "time_range_pattern = r\"\\b(\\d+)\\s+(month|week|day|year)s?\\s+ago\\s+for\\s+\\1\\s+\\2\\b\"\n",
        "\n",
        "# Numerical Patterns\n",
        "numerical_comparison_pattern = r\"^(>|>=|<|<=|<>)?(\\d+)$\"\n",
        "numerical_range_pattern = r\"\\b(>|>=|<|<=|<>)?(\\d+)?\\s+(AND|OR)?\\s+(>|>=|<|<=|<>)?(\\d+)\"\n",
        "\n",
        "# String Patterns\n",
        "string_catch_all_pattern = r\"\\w\"\n",
        "string_multiple_pattern = r\"\\w,+\\w\"\n",
        "categorized_queries = {}\n",
        "categorized_queries_filters = {}\n",
        "\n",
        "### END\n",
        "\n",
        "\n",
        "### LOOKER QUERY METHODS\n",
        "\n",
        "\n",
        "def fetchQueryUrlMetadata(explore: str):\n",
        "  try:\n",
        "    response = sdk.run_inline_query(\n",
        "        result_format='json',\n",
        "        cache=True,\n",
        "        body=models.WriteQuery(\n",
        "            model=\"system__activity\",\n",
        "            view=\"history\",\n",
        "            fields=[\n",
        "              \"query.slug\",\n",
        "              \"query.view\",\n",
        "              \"query.dynamic_fields\",\n",
        "              \"query.formatted_fields\",\n",
        "              \"query.filters\",\n",
        "              \"query.filter_expression\",\n",
        "              \"query.formatted_pivots\",\n",
        "              \"query.sorts\",\n",
        "              \"query.limit\",\n",
        "              \"query.column_limit\",\n",
        "              \"query.count\"\n",
        "            ],\n",
        "            pivots=None,\n",
        "            fill_fields=None,\n",
        "            filters={\n",
        "              \"query.view\": explore,\n",
        "              \"history.status\": \"complete\",\n",
        "              # \"user.email\":\"\"\n",
        "            },\n",
        "            filter_expression=None,\n",
        "            sorts=[\n",
        "              \"history.completed_time desc\"\n",
        "              \"query.view\"\n",
        "            ],\n",
        "            limit=\"10\",\n",
        "        )\n",
        "    )\n",
        "\n",
        "    return json.loads(response)[0:10]\n",
        "  except error.SDKError as e:\n",
        "    print(e.message)\n",
        "\n",
        "\n",
        "\n",
        "def fetchQueryUrl(slug: str):\n",
        "  query_url = sdk.query_for_slug(slug=slug)\n",
        "  return query_url\n",
        "\n",
        "### END\n",
        "\n",
        "\n",
        "### LOOKER URL PARSER FUNCTIONS\n",
        "\n",
        "# limit categorization\n",
        "def limit_categorization(query,url):\n",
        "  if \"query.limit\" in query and query['query.limit'] != None:\n",
        "      categorized_queries.setdefault('limit',[])\n",
        "      categorized_queries['limit'].append(url)\n",
        "\n",
        "# dynamic fields categorization\n",
        "def dynamic_fields_categorization(query,url):\n",
        "  if \"query.dynamic_fields\" in query and query['query.dynamic_fields'] != None:\n",
        "      categorized_queries.setdefault('dynamic_fields',[])\n",
        "      categorized_queries['dynamic_fields'].append(url)\n",
        "\n",
        "# sorts categorization\n",
        "def sorts_categorization(query,url):\n",
        "  if \"query.sorts\" in query and query['query.sorts'] != None:\n",
        "      categorized_queries.setdefault('sorts',[])\n",
        "      categorized_queries['sorts'].append(url)\n",
        "\n",
        "# filter expression categorization\n",
        "def filter_expression_categorization(query,url):\n",
        "  if \"query.filter_expression\" in query and query['query.filter_expression'] != None:\n",
        "      categorized_queries.setdefault('filter_expression',[])\n",
        "      categorized_queries['filter_expression'].append(url)\n",
        "\n",
        "# pivots categorization\n",
        "def pivots_categorization(query,url):\n",
        "  if \"query.formatted_pivots\" in query and query['query.formatted_pivots'] != None:\n",
        "      categorized_queries.setdefault('pivots',[])\n",
        "      categorized_queries['pivots'].append(url)\n",
        "\n",
        "# filters categorization\n",
        "def filters_categorization(query,url):\n",
        "  parsed_filters = json.loads(query['query.filters'])\n",
        "  keys_copy = tuple(parsed_filters.keys())\n",
        "  for key in keys_copy:\n",
        "    if parsed_filters[key] != \"\":\n",
        "      if re.findall(time_range_pattern, parsed_filters[key]):\n",
        "        categorized_queries_filters.setdefault('time_range',[])\n",
        "        categorized_queries_filters['time_range'].append(url)\n",
        "        continue\n",
        "      if re.findall(time_relative_pattern, parsed_filters[key]):\n",
        "        categorized_queries_filters.setdefault('time_relative',[])\n",
        "        categorized_queries_filters['time_relative'].append(url)\n",
        "        continue\n",
        "      elif re.findall(numerical_comparison_pattern, parsed_filters[key]):\n",
        "        categorized_queries_filters.setdefault('numerical_comparison',[])\n",
        "        categorized_queries_filters['numerical_comparison'].append(url)\n",
        "        continue\n",
        "      elif re.findall(numerical_range_pattern, parsed_filters[key]):\n",
        "        categorized_queries_filters.setdefault('numerical_range',[])\n",
        "        categorized_queries_filters['numerical_range'].append(url)\n",
        "        continue\n",
        "      elif re.findall(string_multiple_pattern, parsed_filters[key]):\n",
        "        categorized_queries_filters.setdefault('string_multiple',[])\n",
        "        categorized_queries_filters['string_multiple'].append(url)\n",
        "        continue\n",
        "      elif re.findall(r\"\\w\",parsed_filters[key]):\n",
        "        categorized_queries_filters.setdefault('string_standard',[])\n",
        "        categorized_queries_filters['string_standard'].append(url)\n",
        "        continue\n",
        "\n",
        "### END\n",
        "\n",
        "def explore_url_categorization(data):\n",
        "  for query in data:\n",
        "    query_data = fetchQueryUrl(str(query['query.slug']))\n",
        "    decoded_url = urllib.parse.unquote(query_data.url)\n",
        "\n",
        "    # return url parameters as a string\n",
        "    url_parameters = decoded_url.split(\"?\",1)[1].replace(\"+\", \" \")\n",
        "    # remove timezone parameter\n",
        "    decoded_url_notimezone = re.sub(r\"&query_timezone=(.)*&\", \"&\", url_parameters,count=1)\n",
        "    # remove filter config parameter\n",
        "    decoded_url_nofilterconfig = re.sub(r\"&filter_config=(.)*(?=&|$)\", \"&\", decoded_url_notimezone)[0:-1] if re.sub(r\"&filter_config=(.)*(?=&|$)\", \"&\", decoded_url_notimezone)[-1] == \"&\" else re.sub(r\"&filter_config=(.)*(?=&|$)\", \"&\", decoded_url_notimezone)\n",
        "    # parse vis config parameter only maintain vis type\n",
        "    vis_config = re.search(r\"(&vis=(.)*(?=&|$))\", decoded_url_nofilterconfig)\n",
        "\n",
        "    decoded_url_modifiedvisjson = ''\n",
        "    if vis_config:\n",
        "      vis_json_str = vis_config.group(1)\n",
        "      # regex to search for the vis type (ie. \"type\":\"looker_bar\")\n",
        "      vis_type = re.search(r'(\"type\":\\s*\"([^,}]+))', vis_json_str)\n",
        "      # replace the vis config in original url parameter string with the modified vis type\n",
        "      decoded_url_modifiedvisjson = re.sub(r\"(&vis=(.)*(?=&|$))\",\"&vis={\" + (vis_type.group(1) if vis_type else '') + \"}\",decoded_url_nofilterconfig)\n",
        "    else:\n",
        "      decoded_url_modifiedvisjson = decoded_url_nofilterconfig\n",
        "\n",
        "    # run categorization functions to construct object with categorized urls\n",
        "    limit_categorization(query,decoded_url_modifiedvisjson)\n",
        "    dynamic_fields_categorization(query,decoded_url_modifiedvisjson)\n",
        "    sorts_categorization(query,decoded_url_modifiedvisjson)\n",
        "    filter_expression_categorization(query,decoded_url_modifiedvisjson)\n",
        "    pivots_categorization(query,decoded_url_modifiedvisjson)\n",
        "    filters_categorization(query,decoded_url_modifiedvisjson)\n",
        "\n",
        "  categorized_queries.setdefault('filters',{})\n",
        "  categorized_queries['filters'] = categorized_queries_filters\n",
        "  return categorized_queries\n"
      ]
    },
    {
      "cell_type": "code",
      "execution_count": 33,
      "metadata": {
        "id": "bD_pNQm6rXce"
      },
      "outputs": [
        {
          "name": "stdout",
          "output_type": "stream",
          "text": [
            "{'limit': ['fields=offers.offer_title,deal_owners.owner_name,deals.deal_name,companies.name,deals.partner,deals.stage_name,deals.hot_mild,deals.cloud_provider_of_the_project,offers_to_deals.offer_amount_in_euro,deals.close_date,deals.days_lead_time&f[deals.is_won]=No&f[deals.stage_name]=-Lead KO,-Lost&f[offers.offer_title]=Sicara - Data ESG&sorts=deals.close_date desc&limit=500&column_limit=50&vis={\"type\":\"looker_grid\"}', 'fields=offers.offer_title,offers.owner,deals.deal_name,deals_to_companies.list_of_companies,deal_owners.owner_name,offers_to_deals.offer_amount_in_euro&f[deals.is_won]=Yes&f[offers.is_wbr]=Yes&f[deals.startup]=Hokla,Theodo FR&f[deals.close_date]=1 week ago for 1 week&f[companies.name]=&sorts=deals_to_companies.list_of_companies desc 0&limit=500&column_limit=50&vis={\"type\":\"looker_grid\"}', 'fields=companies.name,deals.deal_name,deal_owners.owner_name,deals.days_lead_time,deals_to_companies.is_new_business,deals.total_amount,contacts.contact_list,offers_to_deals.list_of_offers,companies.client_category&f[deals.stage_name]=Column B&f[deals.startup]=Theodo FR,Hokla&f[companies.client_category]=&f[companies.name]=-Bpifrance&sorts=deals.total_amount desc&limit=500&column_limit=50&total=on&vis={\"type\":\"looker_grid\"}', 'fields=companies.name,deals.deal_name,deal_owners.owner_name,deals.days_lead_time,deals_to_companies.is_new_business,deals.total_amount,contacts.contact_list,offers_to_deals.list_of_offers,companies.client_category&f[deals.close_date]=last week&f[deals.stage_name]=Lost&f[deals.startup]=Padok&f[companies.client_category]=&sorts=deals.total_amount desc&limit=500&column_limit=50&vis={\"type\":\"looker_grid\"}', 'fields=offers.offer_title,offers.owner,deals.deal_name,deal_owners.owner_name,offers_to_deals.offer_amount_in_euro,contacts.contact_list,deals_to_companies.list_of_companies&f[deals.is_won]=Yes&f[offers.is_wbr]=Yes&f[deals.startup]=%Theodo FR%&f[deals.close_date]=1 week ago for 1 week&f[companies.name]=&sorts=deals_to_companies.list_of_companies desc&limit=500&column_limit=50&vis={\"type\":\"looker_grid\"}', 'fields=companies.name,deals.deal_name,deal_owners.owner_name,deals.days_lead_time,deals_to_companies.is_new_business,deals.total_amount,contacts.contact_list,offers_to_deals.list_of_offers,companies.client_category&f[deals.stage_name]=Column A&f[deals.startup]=Nimbleways&f[companies.client_category]=&sorts=deals.total_amount desc&limit=500&column_limit=50&total=on&vis={\"type\":\"looker_grid\"}', 'fields=deals.deal_name,deals.close_date,deal_owners.owner_name,deals.amount,deals.hot_mild,deals.cloud_provider_of_the_project,deals.partner&f[deals.proposal_sent_month]=2023-10&limit=500', 'fields=companies.name,deals.deal_name,deal_owners.owner_name,deals.days_lead_time,deals_to_companies.is_new_business,deals.total_amount,contacts.contact_list,offers_to_deals.list_of_offers,companies.client_category&f[deals.close_date]=last week&f[deals.stage_name]=Lost&f[companies.name]=&f[companies.client_category]=&f[deals.startup]=&sorts=deals.total_amount desc&limit=500&column_limit=50&vis={\"type\":\"looker_grid\"}', 'fields=companies.name,deals.deal_name,deal_owners.owner_name,deals.days_lead_time,deals_to_companies.is_new_business,deals.total_amount,contacts.contact_list,offers_to_deals.list_of_offers,companies.client_category&f[deals.stage_name]=Column B&f[deals.startup]=BAM&f[companies.client_category]=&sorts=deals.total_amount desc&limit=500&column_limit=50&total=on&vis={\"type\":\"looker_grid\"}', 'fields=deals.deal_name,companies.name,deal_owners.owner_name,deals.days_lead_time,deals.stage_name,deals.total_amount,contacts.contact_list,deals_to_companies.is_new_business,offers_to_deals.list_of_offers,companies.client_category&f[deals.close_date]=last week&f[deals.is_won]=Yes&f[deals.startup]=Theodo FR&f[companies.client_category]=&sorts=deals.total_amount desc 0&limit=500&column_limit=50&total=on&vis={\"type\":\"looker_grid\"}', 'fields=offers.offer_title,deal_owners.owner_name,deals.deal_name,companies.name,deals.partner,deals.stage_name,deals.hot_mild,deals.cloud_provider_of_the_project,offers_to_deals.offer_amount_in_euro,deals.close_date,deals.days_lead_time&f[deals.is_won]=No&f[deals.stage_name]=-Lead KO,-Lost&f[offers.offer_title]=Sicara - Data ESG&sorts=deals.close_date desc&limit=500&column_limit=50&vis={\"type\":\"looker_grid\"}', 'fields=offers.offer_title,offers.owner,deals.deal_name,deals_to_companies.list_of_companies,deal_owners.owner_name,offers_to_deals.offer_amount_in_euro&f[deals.is_won]=Yes&f[offers.is_wbr]=Yes&f[deals.startup]=Hokla,Theodo FR&f[deals.close_date]=1 week ago for 1 week&f[companies.name]=&sorts=deals_to_companies.list_of_companies desc 0&limit=500&column_limit=50&vis={\"type\":\"looker_grid\"}', 'fields=companies.name,deals.deal_name,deal_owners.owner_name,deals.days_lead_time,deals_to_companies.is_new_business,deals.total_amount,contacts.contact_list,offers_to_deals.list_of_offers,companies.client_category&f[deals.stage_name]=Column B&f[deals.startup]=Theodo FR,Hokla&f[companies.client_category]=&f[companies.name]=-Bpifrance&sorts=deals.total_amount desc&limit=500&column_limit=50&total=on&vis={\"type\":\"looker_grid\"}', 'fields=companies.name,deals.deal_name,deal_owners.owner_name,deals.days_lead_time,deals_to_companies.is_new_business,deals.total_amount,contacts.contact_list,offers_to_deals.list_of_offers,companies.client_category&f[deals.close_date]=last week&f[deals.stage_name]=Lost&f[deals.startup]=Padok&f[companies.client_category]=&sorts=deals.total_amount desc&limit=500&column_limit=50&vis={\"type\":\"looker_grid\"}', 'fields=offers.offer_title,offers.owner,deals.deal_name,deal_owners.owner_name,offers_to_deals.offer_amount_in_euro,contacts.contact_list,deals_to_companies.list_of_companies&f[deals.is_won]=Yes&f[offers.is_wbr]=Yes&f[deals.startup]=%Theodo FR%&f[deals.close_date]=1 week ago for 1 week&f[companies.name]=&sorts=deals_to_companies.list_of_companies desc&limit=500&column_limit=50&vis={\"type\":\"looker_grid\"}', 'fields=companies.name,deals.deal_name,deal_owners.owner_name,deals.days_lead_time,deals_to_companies.is_new_business,deals.total_amount,contacts.contact_list,offers_to_deals.list_of_offers,companies.client_category&f[deals.stage_name]=Column A&f[deals.startup]=Nimbleways&f[companies.client_category]=&sorts=deals.total_amount desc&limit=500&column_limit=50&total=on&vis={\"type\":\"looker_grid\"}', 'fields=deals.deal_name,deals.close_date,deal_owners.owner_name,deals.amount,deals.hot_mild,deals.cloud_provider_of_the_project,deals.partner&f[deals.proposal_sent_month]=2023-10&limit=500', 'fields=companies.name,deals.deal_name,deal_owners.owner_name,deals.days_lead_time,deals_to_companies.is_new_business,deals.total_amount,contacts.contact_list,offers_to_deals.list_of_offers,companies.client_category&f[deals.close_date]=last week&f[deals.stage_name]=Lost&f[companies.name]=&f[companies.client_category]=&f[deals.startup]=&sorts=deals.total_amount desc&limit=500&column_limit=50&vis={\"type\":\"looker_grid\"}', 'fields=companies.name,deals.deal_name,deal_owners.owner_name,deals.days_lead_time,deals_to_companies.is_new_business,deals.total_amount,contacts.contact_list,offers_to_deals.list_of_offers,companies.client_category&f[deals.stage_name]=Column B&f[deals.startup]=BAM&f[companies.client_category]=&sorts=deals.total_amount desc&limit=500&column_limit=50&total=on&vis={\"type\":\"looker_grid\"}', 'fields=deals.deal_name,companies.name,deal_owners.owner_name,deals.days_lead_time,deals.stage_name,deals.total_amount,contacts.contact_list,deals_to_companies.is_new_business,offers_to_deals.list_of_offers,companies.client_category&f[deals.close_date]=last week&f[deals.is_won]=Yes&f[deals.startup]=Theodo FR&f[companies.client_category]=&sorts=deals.total_amount desc 0&limit=500&column_limit=50&total=on&vis={\"type\":\"looker_grid\"}', 'fields=offers.offer_title,deal_owners.owner_name,deals.deal_name,companies.name,deals.partner,deals.stage_name,deals.hot_mild,deals.cloud_provider_of_the_project,offers_to_deals.offer_amount_in_euro,deals.close_date,deals.days_lead_time&f[deals.is_won]=No&f[deals.stage_name]=-Lead KO,-Lost&f[offers.offer_title]=Sicara - Data ESG&sorts=deals.close_date desc&limit=500&column_limit=50&vis={\"type\":\"looker_grid\"}', 'fields=offers.offer_title,offers.owner,deals.deal_name,deals_to_companies.list_of_companies,deal_owners.owner_name,offers_to_deals.offer_amount_in_euro&f[deals.is_won]=Yes&f[offers.is_wbr]=Yes&f[deals.startup]=Hokla,Theodo FR&f[deals.close_date]=1 week ago for 1 week&f[companies.name]=&sorts=deals_to_companies.list_of_companies desc 0&limit=500&column_limit=50&vis={\"type\":\"looker_grid\"}', 'fields=companies.name,deals.deal_name,deal_owners.owner_name,deals.days_lead_time,deals_to_companies.is_new_business,deals.total_amount,contacts.contact_list,offers_to_deals.list_of_offers,companies.client_category&f[deals.stage_name]=Column B&f[deals.startup]=Theodo FR,Hokla&f[companies.client_category]=&f[companies.name]=-Bpifrance&sorts=deals.total_amount desc&limit=500&column_limit=50&total=on&vis={\"type\":\"looker_grid\"}', 'fields=companies.name,deals.deal_name,deal_owners.owner_name,deals.days_lead_time,deals_to_companies.is_new_business,deals.total_amount,contacts.contact_list,offers_to_deals.list_of_offers,companies.client_category&f[deals.close_date]=last week&f[deals.stage_name]=Lost&f[deals.startup]=Padok&f[companies.client_category]=&sorts=deals.total_amount desc&limit=500&column_limit=50&vis={\"type\":\"looker_grid\"}', 'fields=offers.offer_title,offers.owner,deals.deal_name,deal_owners.owner_name,offers_to_deals.offer_amount_in_euro,contacts.contact_list,deals_to_companies.list_of_companies&f[deals.is_won]=Yes&f[offers.is_wbr]=Yes&f[deals.startup]=%Theodo FR%&f[deals.close_date]=1 week ago for 1 week&f[companies.name]=&sorts=deals_to_companies.list_of_companies desc&limit=500&column_limit=50&vis={\"type\":\"looker_grid\"}', 'fields=companies.name,deals.deal_name,deal_owners.owner_name,deals.days_lead_time,deals_to_companies.is_new_business,deals.total_amount,contacts.contact_list,offers_to_deals.list_of_offers,companies.client_category&f[deals.stage_name]=Column A&f[deals.startup]=Nimbleways&f[companies.client_category]=&sorts=deals.total_amount desc&limit=500&column_limit=50&total=on&vis={\"type\":\"looker_grid\"}', 'fields=deals.deal_name,deals.close_date,deal_owners.owner_name,deals.amount,deals.hot_mild,deals.cloud_provider_of_the_project,deals.partner&f[deals.proposal_sent_month]=2023-10&limit=500', 'fields=companies.name,deals.deal_name,deal_owners.owner_name,deals.days_lead_time,deals_to_companies.is_new_business,deals.total_amount,contacts.contact_list,offers_to_deals.list_of_offers,companies.client_category&f[deals.close_date]=last week&f[deals.stage_name]=Lost&f[companies.name]=&f[companies.client_category]=&f[deals.startup]=&sorts=deals.total_amount desc&limit=500&column_limit=50&vis={\"type\":\"looker_grid\"}', 'fields=companies.name,deals.deal_name,deal_owners.owner_name,deals.days_lead_time,deals_to_companies.is_new_business,deals.total_amount,contacts.contact_list,offers_to_deals.list_of_offers,companies.client_category&f[deals.stage_name]=Column B&f[deals.startup]=BAM&f[companies.client_category]=&sorts=deals.total_amount desc&limit=500&column_limit=50&total=on&vis={\"type\":\"looker_grid\"}', 'fields=deals.deal_name,companies.name,deal_owners.owner_name,deals.days_lead_time,deals.stage_name,deals.total_amount,contacts.contact_list,deals_to_companies.is_new_business,offers_to_deals.list_of_offers,companies.client_category&f[deals.close_date]=last week&f[deals.is_won]=Yes&f[deals.startup]=Theodo FR&f[companies.client_category]=&sorts=deals.total_amount desc 0&limit=500&column_limit=50&total=on&vis={\"type\":\"looker_grid\"}'], 'dynamic_fields': ['fields=offers.offer_title,deal_owners.owner_name,deals.deal_name,companies.name,deals.partner,deals.stage_name,deals.hot_mild,deals.cloud_provider_of_the_project,offers_to_deals.offer_amount_in_euro,deals.close_date,deals.days_lead_time&f[deals.is_won]=No&f[deals.stage_name]=-Lead KO,-Lost&f[offers.offer_title]=Sicara - Data ESG&sorts=deals.close_date desc&limit=500&column_limit=50&vis={\"type\":\"looker_grid\"}', 'fields=companies.name,deals.deal_name,deal_owners.owner_name,deals.days_lead_time,deals_to_companies.is_new_business,deals.total_amount,contacts.contact_list,offers_to_deals.list_of_offers,companies.client_category&f[deals.stage_name]=Column B&f[deals.startup]=Theodo FR,Hokla&f[companies.client_category]=&f[companies.name]=-Bpifrance&sorts=deals.total_amount desc&limit=500&column_limit=50&total=on&vis={\"type\":\"looker_grid\"}', 'fields=companies.name,deals.deal_name,deal_owners.owner_name,deals.days_lead_time,deals_to_companies.is_new_business,deals.total_amount,contacts.contact_list,offers_to_deals.list_of_offers,companies.client_category&f[deals.close_date]=last week&f[deals.stage_name]=Lost&f[deals.startup]=Padok&f[companies.client_category]=&sorts=deals.total_amount desc&limit=500&column_limit=50&vis={\"type\":\"looker_grid\"}', 'fields=offers.offer_title,offers.owner,deals.deal_name,deal_owners.owner_name,offers_to_deals.offer_amount_in_euro,contacts.contact_list,deals_to_companies.list_of_companies&f[deals.is_won]=Yes&f[offers.is_wbr]=Yes&f[deals.startup]=%Theodo FR%&f[deals.close_date]=1 week ago for 1 week&f[companies.name]=&sorts=deals_to_companies.list_of_companies desc&limit=500&column_limit=50&vis={\"type\":\"looker_grid\"}', 'fields=companies.name,deals.deal_name,deal_owners.owner_name,deals.days_lead_time,deals_to_companies.is_new_business,deals.total_amount,contacts.contact_list,offers_to_deals.list_of_offers,companies.client_category&f[deals.stage_name]=Column A&f[deals.startup]=Nimbleways&f[companies.client_category]=&sorts=deals.total_amount desc&limit=500&column_limit=50&total=on&vis={\"type\":\"looker_grid\"}', 'fields=companies.name,deals.deal_name,deal_owners.owner_name,deals.days_lead_time,deals_to_companies.is_new_business,deals.total_amount,contacts.contact_list,offers_to_deals.list_of_offers,companies.client_category&f[deals.close_date]=last week&f[deals.stage_name]=Lost&f[companies.name]=&f[companies.client_category]=&f[deals.startup]=&sorts=deals.total_amount desc&limit=500&column_limit=50&vis={\"type\":\"looker_grid\"}', 'fields=companies.name,deals.deal_name,deal_owners.owner_name,deals.days_lead_time,deals_to_companies.is_new_business,deals.total_amount,contacts.contact_list,offers_to_deals.list_of_offers,companies.client_category&f[deals.stage_name]=Column B&f[deals.startup]=BAM&f[companies.client_category]=&sorts=deals.total_amount desc&limit=500&column_limit=50&total=on&vis={\"type\":\"looker_grid\"}', 'fields=offers.offer_title,deal_owners.owner_name,deals.deal_name,companies.name,deals.partner,deals.stage_name,deals.hot_mild,deals.cloud_provider_of_the_project,offers_to_deals.offer_amount_in_euro,deals.close_date,deals.days_lead_time&f[deals.is_won]=No&f[deals.stage_name]=-Lead KO,-Lost&f[offers.offer_title]=Sicara - Data ESG&sorts=deals.close_date desc&limit=500&column_limit=50&vis={\"type\":\"looker_grid\"}', 'fields=companies.name,deals.deal_name,deal_owners.owner_name,deals.days_lead_time,deals_to_companies.is_new_business,deals.total_amount,contacts.contact_list,offers_to_deals.list_of_offers,companies.client_category&f[deals.stage_name]=Column B&f[deals.startup]=Theodo FR,Hokla&f[companies.client_category]=&f[companies.name]=-Bpifrance&sorts=deals.total_amount desc&limit=500&column_limit=50&total=on&vis={\"type\":\"looker_grid\"}', 'fields=companies.name,deals.deal_name,deal_owners.owner_name,deals.days_lead_time,deals_to_companies.is_new_business,deals.total_amount,contacts.contact_list,offers_to_deals.list_of_offers,companies.client_category&f[deals.close_date]=last week&f[deals.stage_name]=Lost&f[deals.startup]=Padok&f[companies.client_category]=&sorts=deals.total_amount desc&limit=500&column_limit=50&vis={\"type\":\"looker_grid\"}', 'fields=offers.offer_title,offers.owner,deals.deal_name,deal_owners.owner_name,offers_to_deals.offer_amount_in_euro,contacts.contact_list,deals_to_companies.list_of_companies&f[deals.is_won]=Yes&f[offers.is_wbr]=Yes&f[deals.startup]=%Theodo FR%&f[deals.close_date]=1 week ago for 1 week&f[companies.name]=&sorts=deals_to_companies.list_of_companies desc&limit=500&column_limit=50&vis={\"type\":\"looker_grid\"}', 'fields=companies.name,deals.deal_name,deal_owners.owner_name,deals.days_lead_time,deals_to_companies.is_new_business,deals.total_amount,contacts.contact_list,offers_to_deals.list_of_offers,companies.client_category&f[deals.stage_name]=Column A&f[deals.startup]=Nimbleways&f[companies.client_category]=&sorts=deals.total_amount desc&limit=500&column_limit=50&total=on&vis={\"type\":\"looker_grid\"}', 'fields=companies.name,deals.deal_name,deal_owners.owner_name,deals.days_lead_time,deals_to_companies.is_new_business,deals.total_amount,contacts.contact_list,offers_to_deals.list_of_offers,companies.client_category&f[deals.close_date]=last week&f[deals.stage_name]=Lost&f[companies.name]=&f[companies.client_category]=&f[deals.startup]=&sorts=deals.total_amount desc&limit=500&column_limit=50&vis={\"type\":\"looker_grid\"}', 'fields=companies.name,deals.deal_name,deal_owners.owner_name,deals.days_lead_time,deals_to_companies.is_new_business,deals.total_amount,contacts.contact_list,offers_to_deals.list_of_offers,companies.client_category&f[deals.stage_name]=Column B&f[deals.startup]=BAM&f[companies.client_category]=&sorts=deals.total_amount desc&limit=500&column_limit=50&total=on&vis={\"type\":\"looker_grid\"}', 'fields=offers.offer_title,deal_owners.owner_name,deals.deal_name,companies.name,deals.partner,deals.stage_name,deals.hot_mild,deals.cloud_provider_of_the_project,offers_to_deals.offer_amount_in_euro,deals.close_date,deals.days_lead_time&f[deals.is_won]=No&f[deals.stage_name]=-Lead KO,-Lost&f[offers.offer_title]=Sicara - Data ESG&sorts=deals.close_date desc&limit=500&column_limit=50&vis={\"type\":\"looker_grid\"}', 'fields=companies.name,deals.deal_name,deal_owners.owner_name,deals.days_lead_time,deals_to_companies.is_new_business,deals.total_amount,contacts.contact_list,offers_to_deals.list_of_offers,companies.client_category&f[deals.stage_name]=Column B&f[deals.startup]=Theodo FR,Hokla&f[companies.client_category]=&f[companies.name]=-Bpifrance&sorts=deals.total_amount desc&limit=500&column_limit=50&total=on&vis={\"type\":\"looker_grid\"}', 'fields=companies.name,deals.deal_name,deal_owners.owner_name,deals.days_lead_time,deals_to_companies.is_new_business,deals.total_amount,contacts.contact_list,offers_to_deals.list_of_offers,companies.client_category&f[deals.close_date]=last week&f[deals.stage_name]=Lost&f[deals.startup]=Padok&f[companies.client_category]=&sorts=deals.total_amount desc&limit=500&column_limit=50&vis={\"type\":\"looker_grid\"}', 'fields=offers.offer_title,offers.owner,deals.deal_name,deal_owners.owner_name,offers_to_deals.offer_amount_in_euro,contacts.contact_list,deals_to_companies.list_of_companies&f[deals.is_won]=Yes&f[offers.is_wbr]=Yes&f[deals.startup]=%Theodo FR%&f[deals.close_date]=1 week ago for 1 week&f[companies.name]=&sorts=deals_to_companies.list_of_companies desc&limit=500&column_limit=50&vis={\"type\":\"looker_grid\"}', 'fields=companies.name,deals.deal_name,deal_owners.owner_name,deals.days_lead_time,deals_to_companies.is_new_business,deals.total_amount,contacts.contact_list,offers_to_deals.list_of_offers,companies.client_category&f[deals.stage_name]=Column A&f[deals.startup]=Nimbleways&f[companies.client_category]=&sorts=deals.total_amount desc&limit=500&column_limit=50&total=on&vis={\"type\":\"looker_grid\"}', 'fields=companies.name,deals.deal_name,deal_owners.owner_name,deals.days_lead_time,deals_to_companies.is_new_business,deals.total_amount,contacts.contact_list,offers_to_deals.list_of_offers,companies.client_category&f[deals.close_date]=last week&f[deals.stage_name]=Lost&f[companies.name]=&f[companies.client_category]=&f[deals.startup]=&sorts=deals.total_amount desc&limit=500&column_limit=50&vis={\"type\":\"looker_grid\"}', 'fields=companies.name,deals.deal_name,deal_owners.owner_name,deals.days_lead_time,deals_to_companies.is_new_business,deals.total_amount,contacts.contact_list,offers_to_deals.list_of_offers,companies.client_category&f[deals.stage_name]=Column B&f[deals.startup]=BAM&f[companies.client_category]=&sorts=deals.total_amount desc&limit=500&column_limit=50&total=on&vis={\"type\":\"looker_grid\"}'], 'sorts': ['fields=offers.offer_title,deal_owners.owner_name,deals.deal_name,companies.name,deals.partner,deals.stage_name,deals.hot_mild,deals.cloud_provider_of_the_project,offers_to_deals.offer_amount_in_euro,deals.close_date,deals.days_lead_time&f[deals.is_won]=No&f[deals.stage_name]=-Lead KO,-Lost&f[offers.offer_title]=Sicara - Data ESG&sorts=deals.close_date desc&limit=500&column_limit=50&vis={\"type\":\"looker_grid\"}', 'fields=offers.offer_title,offers.owner,deals.deal_name,deals_to_companies.list_of_companies,deal_owners.owner_name,offers_to_deals.offer_amount_in_euro&f[deals.is_won]=Yes&f[offers.is_wbr]=Yes&f[deals.startup]=Hokla,Theodo FR&f[deals.close_date]=1 week ago for 1 week&f[companies.name]=&sorts=deals_to_companies.list_of_companies desc 0&limit=500&column_limit=50&vis={\"type\":\"looker_grid\"}', 'fields=companies.name,deals.deal_name,deal_owners.owner_name,deals.days_lead_time,deals_to_companies.is_new_business,deals.total_amount,contacts.contact_list,offers_to_deals.list_of_offers,companies.client_category&f[deals.stage_name]=Column B&f[deals.startup]=Theodo FR,Hokla&f[companies.client_category]=&f[companies.name]=-Bpifrance&sorts=deals.total_amount desc&limit=500&column_limit=50&total=on&vis={\"type\":\"looker_grid\"}', 'fields=companies.name,deals.deal_name,deal_owners.owner_name,deals.days_lead_time,deals_to_companies.is_new_business,deals.total_amount,contacts.contact_list,offers_to_deals.list_of_offers,companies.client_category&f[deals.close_date]=last week&f[deals.stage_name]=Lost&f[deals.startup]=Padok&f[companies.client_category]=&sorts=deals.total_amount desc&limit=500&column_limit=50&vis={\"type\":\"looker_grid\"}', 'fields=offers.offer_title,offers.owner,deals.deal_name,deal_owners.owner_name,offers_to_deals.offer_amount_in_euro,contacts.contact_list,deals_to_companies.list_of_companies&f[deals.is_won]=Yes&f[offers.is_wbr]=Yes&f[deals.startup]=%Theodo FR%&f[deals.close_date]=1 week ago for 1 week&f[companies.name]=&sorts=deals_to_companies.list_of_companies desc&limit=500&column_limit=50&vis={\"type\":\"looker_grid\"}', 'fields=companies.name,deals.deal_name,deal_owners.owner_name,deals.days_lead_time,deals_to_companies.is_new_business,deals.total_amount,contacts.contact_list,offers_to_deals.list_of_offers,companies.client_category&f[deals.stage_name]=Column A&f[deals.startup]=Nimbleways&f[companies.client_category]=&sorts=deals.total_amount desc&limit=500&column_limit=50&total=on&vis={\"type\":\"looker_grid\"}', 'fields=companies.name,deals.deal_name,deal_owners.owner_name,deals.days_lead_time,deals_to_companies.is_new_business,deals.total_amount,contacts.contact_list,offers_to_deals.list_of_offers,companies.client_category&f[deals.close_date]=last week&f[deals.stage_name]=Lost&f[companies.name]=&f[companies.client_category]=&f[deals.startup]=&sorts=deals.total_amount desc&limit=500&column_limit=50&vis={\"type\":\"looker_grid\"}', 'fields=companies.name,deals.deal_name,deal_owners.owner_name,deals.days_lead_time,deals_to_companies.is_new_business,deals.total_amount,contacts.contact_list,offers_to_deals.list_of_offers,companies.client_category&f[deals.stage_name]=Column B&f[deals.startup]=BAM&f[companies.client_category]=&sorts=deals.total_amount desc&limit=500&column_limit=50&total=on&vis={\"type\":\"looker_grid\"}', 'fields=deals.deal_name,companies.name,deal_owners.owner_name,deals.days_lead_time,deals.stage_name,deals.total_amount,contacts.contact_list,deals_to_companies.is_new_business,offers_to_deals.list_of_offers,companies.client_category&f[deals.close_date]=last week&f[deals.is_won]=Yes&f[deals.startup]=Theodo FR&f[companies.client_category]=&sorts=deals.total_amount desc 0&limit=500&column_limit=50&total=on&vis={\"type\":\"looker_grid\"}', 'fields=offers.offer_title,deal_owners.owner_name,deals.deal_name,companies.name,deals.partner,deals.stage_name,deals.hot_mild,deals.cloud_provider_of_the_project,offers_to_deals.offer_amount_in_euro,deals.close_date,deals.days_lead_time&f[deals.is_won]=No&f[deals.stage_name]=-Lead KO,-Lost&f[offers.offer_title]=Sicara - Data ESG&sorts=deals.close_date desc&limit=500&column_limit=50&vis={\"type\":\"looker_grid\"}', 'fields=offers.offer_title,offers.owner,deals.deal_name,deals_to_companies.list_of_companies,deal_owners.owner_name,offers_to_deals.offer_amount_in_euro&f[deals.is_won]=Yes&f[offers.is_wbr]=Yes&f[deals.startup]=Hokla,Theodo FR&f[deals.close_date]=1 week ago for 1 week&f[companies.name]=&sorts=deals_to_companies.list_of_companies desc 0&limit=500&column_limit=50&vis={\"type\":\"looker_grid\"}', 'fields=companies.name,deals.deal_name,deal_owners.owner_name,deals.days_lead_time,deals_to_companies.is_new_business,deals.total_amount,contacts.contact_list,offers_to_deals.list_of_offers,companies.client_category&f[deals.stage_name]=Column B&f[deals.startup]=Theodo FR,Hokla&f[companies.client_category]=&f[companies.name]=-Bpifrance&sorts=deals.total_amount desc&limit=500&column_limit=50&total=on&vis={\"type\":\"looker_grid\"}', 'fields=companies.name,deals.deal_name,deal_owners.owner_name,deals.days_lead_time,deals_to_companies.is_new_business,deals.total_amount,contacts.contact_list,offers_to_deals.list_of_offers,companies.client_category&f[deals.close_date]=last week&f[deals.stage_name]=Lost&f[deals.startup]=Padok&f[companies.client_category]=&sorts=deals.total_amount desc&limit=500&column_limit=50&vis={\"type\":\"looker_grid\"}', 'fields=offers.offer_title,offers.owner,deals.deal_name,deal_owners.owner_name,offers_to_deals.offer_amount_in_euro,contacts.contact_list,deals_to_companies.list_of_companies&f[deals.is_won]=Yes&f[offers.is_wbr]=Yes&f[deals.startup]=%Theodo FR%&f[deals.close_date]=1 week ago for 1 week&f[companies.name]=&sorts=deals_to_companies.list_of_companies desc&limit=500&column_limit=50&vis={\"type\":\"looker_grid\"}', 'fields=companies.name,deals.deal_name,deal_owners.owner_name,deals.days_lead_time,deals_to_companies.is_new_business,deals.total_amount,contacts.contact_list,offers_to_deals.list_of_offers,companies.client_category&f[deals.stage_name]=Column A&f[deals.startup]=Nimbleways&f[companies.client_category]=&sorts=deals.total_amount desc&limit=500&column_limit=50&total=on&vis={\"type\":\"looker_grid\"}', 'fields=companies.name,deals.deal_name,deal_owners.owner_name,deals.days_lead_time,deals_to_companies.is_new_business,deals.total_amount,contacts.contact_list,offers_to_deals.list_of_offers,companies.client_category&f[deals.close_date]=last week&f[deals.stage_name]=Lost&f[companies.name]=&f[companies.client_category]=&f[deals.startup]=&sorts=deals.total_amount desc&limit=500&column_limit=50&vis={\"type\":\"looker_grid\"}', 'fields=companies.name,deals.deal_name,deal_owners.owner_name,deals.days_lead_time,deals_to_companies.is_new_business,deals.total_amount,contacts.contact_list,offers_to_deals.list_of_offers,companies.client_category&f[deals.stage_name]=Column B&f[deals.startup]=BAM&f[companies.client_category]=&sorts=deals.total_amount desc&limit=500&column_limit=50&total=on&vis={\"type\":\"looker_grid\"}', 'fields=deals.deal_name,companies.name,deal_owners.owner_name,deals.days_lead_time,deals.stage_name,deals.total_amount,contacts.contact_list,deals_to_companies.is_new_business,offers_to_deals.list_of_offers,companies.client_category&f[deals.close_date]=last week&f[deals.is_won]=Yes&f[deals.startup]=Theodo FR&f[companies.client_category]=&sorts=deals.total_amount desc 0&limit=500&column_limit=50&total=on&vis={\"type\":\"looker_grid\"}', 'fields=offers.offer_title,deal_owners.owner_name,deals.deal_name,companies.name,deals.partner,deals.stage_name,deals.hot_mild,deals.cloud_provider_of_the_project,offers_to_deals.offer_amount_in_euro,deals.close_date,deals.days_lead_time&f[deals.is_won]=No&f[deals.stage_name]=-Lead KO,-Lost&f[offers.offer_title]=Sicara - Data ESG&sorts=deals.close_date desc&limit=500&column_limit=50&vis={\"type\":\"looker_grid\"}', 'fields=offers.offer_title,offers.owner,deals.deal_name,deals_to_companies.list_of_companies,deal_owners.owner_name,offers_to_deals.offer_amount_in_euro&f[deals.is_won]=Yes&f[offers.is_wbr]=Yes&f[deals.startup]=Hokla,Theodo FR&f[deals.close_date]=1 week ago for 1 week&f[companies.name]=&sorts=deals_to_companies.list_of_companies desc 0&limit=500&column_limit=50&vis={\"type\":\"looker_grid\"}', 'fields=companies.name,deals.deal_name,deal_owners.owner_name,deals.days_lead_time,deals_to_companies.is_new_business,deals.total_amount,contacts.contact_list,offers_to_deals.list_of_offers,companies.client_category&f[deals.stage_name]=Column B&f[deals.startup]=Theodo FR,Hokla&f[companies.client_category]=&f[companies.name]=-Bpifrance&sorts=deals.total_amount desc&limit=500&column_limit=50&total=on&vis={\"type\":\"looker_grid\"}', 'fields=companies.name,deals.deal_name,deal_owners.owner_name,deals.days_lead_time,deals_to_companies.is_new_business,deals.total_amount,contacts.contact_list,offers_to_deals.list_of_offers,companies.client_category&f[deals.close_date]=last week&f[deals.stage_name]=Lost&f[deals.startup]=Padok&f[companies.client_category]=&sorts=deals.total_amount desc&limit=500&column_limit=50&vis={\"type\":\"looker_grid\"}', 'fields=offers.offer_title,offers.owner,deals.deal_name,deal_owners.owner_name,offers_to_deals.offer_amount_in_euro,contacts.contact_list,deals_to_companies.list_of_companies&f[deals.is_won]=Yes&f[offers.is_wbr]=Yes&f[deals.startup]=%Theodo FR%&f[deals.close_date]=1 week ago for 1 week&f[companies.name]=&sorts=deals_to_companies.list_of_companies desc&limit=500&column_limit=50&vis={\"type\":\"looker_grid\"}', 'fields=companies.name,deals.deal_name,deal_owners.owner_name,deals.days_lead_time,deals_to_companies.is_new_business,deals.total_amount,contacts.contact_list,offers_to_deals.list_of_offers,companies.client_category&f[deals.stage_name]=Column A&f[deals.startup]=Nimbleways&f[companies.client_category]=&sorts=deals.total_amount desc&limit=500&column_limit=50&total=on&vis={\"type\":\"looker_grid\"}', 'fields=companies.name,deals.deal_name,deal_owners.owner_name,deals.days_lead_time,deals_to_companies.is_new_business,deals.total_amount,contacts.contact_list,offers_to_deals.list_of_offers,companies.client_category&f[deals.close_date]=last week&f[deals.stage_name]=Lost&f[companies.name]=&f[companies.client_category]=&f[deals.startup]=&sorts=deals.total_amount desc&limit=500&column_limit=50&vis={\"type\":\"looker_grid\"}', 'fields=companies.name,deals.deal_name,deal_owners.owner_name,deals.days_lead_time,deals_to_companies.is_new_business,deals.total_amount,contacts.contact_list,offers_to_deals.list_of_offers,companies.client_category&f[deals.stage_name]=Column B&f[deals.startup]=BAM&f[companies.client_category]=&sorts=deals.total_amount desc&limit=500&column_limit=50&total=on&vis={\"type\":\"looker_grid\"}', 'fields=deals.deal_name,companies.name,deal_owners.owner_name,deals.days_lead_time,deals.stage_name,deals.total_amount,contacts.contact_list,deals_to_companies.is_new_business,offers_to_deals.list_of_offers,companies.client_category&f[deals.close_date]=last week&f[deals.is_won]=Yes&f[deals.startup]=Theodo FR&f[companies.client_category]=&sorts=deals.total_amount desc 0&limit=500&column_limit=50&total=on&vis={\"type\":\"looker_grid\"}'], 'filters': {'string_standard': ['fields=offers.offer_title,deal_owners.owner_name,deals.deal_name,companies.name,deals.partner,deals.stage_name,deals.hot_mild,deals.cloud_provider_of_the_project,offers_to_deals.offer_amount_in_euro,deals.close_date,deals.days_lead_time&f[deals.is_won]=No&f[deals.stage_name]=-Lead KO,-Lost&f[offers.offer_title]=Sicara - Data ESG&sorts=deals.close_date desc&limit=500&column_limit=50&vis={\"type\":\"looker_grid\"}', 'fields=offers.offer_title,deal_owners.owner_name,deals.deal_name,companies.name,deals.partner,deals.stage_name,deals.hot_mild,deals.cloud_provider_of_the_project,offers_to_deals.offer_amount_in_euro,deals.close_date,deals.days_lead_time&f[deals.is_won]=No&f[deals.stage_name]=-Lead KO,-Lost&f[offers.offer_title]=Sicara - Data ESG&sorts=deals.close_date desc&limit=500&column_limit=50&vis={\"type\":\"looker_grid\"}', 'fields=offers.offer_title,deal_owners.owner_name,deals.deal_name,companies.name,deals.partner,deals.stage_name,deals.hot_mild,deals.cloud_provider_of_the_project,offers_to_deals.offer_amount_in_euro,deals.close_date,deals.days_lead_time&f[deals.is_won]=No&f[deals.stage_name]=-Lead KO,-Lost&f[offers.offer_title]=Sicara - Data ESG&sorts=deals.close_date desc&limit=500&column_limit=50&vis={\"type\":\"looker_grid\"}', 'fields=offers.offer_title,offers.owner,deals.deal_name,deals_to_companies.list_of_companies,deal_owners.owner_name,offers_to_deals.offer_amount_in_euro&f[deals.is_won]=Yes&f[offers.is_wbr]=Yes&f[deals.startup]=Hokla,Theodo FR&f[deals.close_date]=1 week ago for 1 week&f[companies.name]=&sorts=deals_to_companies.list_of_companies desc 0&limit=500&column_limit=50&vis={\"type\":\"looker_grid\"}', 'fields=offers.offer_title,offers.owner,deals.deal_name,deals_to_companies.list_of_companies,deal_owners.owner_name,offers_to_deals.offer_amount_in_euro&f[deals.is_won]=Yes&f[offers.is_wbr]=Yes&f[deals.startup]=Hokla,Theodo FR&f[deals.close_date]=1 week ago for 1 week&f[companies.name]=&sorts=deals_to_companies.list_of_companies desc 0&limit=500&column_limit=50&vis={\"type\":\"looker_grid\"}', 'fields=companies.name,deals.deal_name,deal_owners.owner_name,deals.days_lead_time,deals_to_companies.is_new_business,deals.total_amount,contacts.contact_list,offers_to_deals.list_of_offers,companies.client_category&f[deals.stage_name]=Column B&f[deals.startup]=Theodo FR,Hokla&f[companies.client_category]=&f[companies.name]=-Bpifrance&sorts=deals.total_amount desc&limit=500&column_limit=50&total=on&vis={\"type\":\"looker_grid\"}', 'fields=companies.name,deals.deal_name,deal_owners.owner_name,deals.days_lead_time,deals_to_companies.is_new_business,deals.total_amount,contacts.contact_list,offers_to_deals.list_of_offers,companies.client_category&f[deals.stage_name]=Column B&f[deals.startup]=Theodo FR,Hokla&f[companies.client_category]=&f[companies.name]=-Bpifrance&sorts=deals.total_amount desc&limit=500&column_limit=50&total=on&vis={\"type\":\"looker_grid\"}', 'fields=companies.name,deals.deal_name,deal_owners.owner_name,deals.days_lead_time,deals_to_companies.is_new_business,deals.total_amount,contacts.contact_list,offers_to_deals.list_of_offers,companies.client_category&f[deals.close_date]=last week&f[deals.stage_name]=Lost&f[deals.startup]=Padok&f[companies.client_category]=&sorts=deals.total_amount desc&limit=500&column_limit=50&vis={\"type\":\"looker_grid\"}', 'fields=companies.name,deals.deal_name,deal_owners.owner_name,deals.days_lead_time,deals_to_companies.is_new_business,deals.total_amount,contacts.contact_list,offers_to_deals.list_of_offers,companies.client_category&f[deals.close_date]=last week&f[deals.stage_name]=Lost&f[deals.startup]=Padok&f[companies.client_category]=&sorts=deals.total_amount desc&limit=500&column_limit=50&vis={\"type\":\"looker_grid\"}', 'fields=companies.name,deals.deal_name,deal_owners.owner_name,deals.days_lead_time,deals_to_companies.is_new_business,deals.total_amount,contacts.contact_list,offers_to_deals.list_of_offers,companies.client_category&f[deals.close_date]=last week&f[deals.stage_name]=Lost&f[deals.startup]=Padok&f[companies.client_category]=&sorts=deals.total_amount desc&limit=500&column_limit=50&vis={\"type\":\"looker_grid\"}', 'fields=offers.offer_title,offers.owner,deals.deal_name,deal_owners.owner_name,offers_to_deals.offer_amount_in_euro,contacts.contact_list,deals_to_companies.list_of_companies&f[deals.is_won]=Yes&f[offers.is_wbr]=Yes&f[deals.startup]=%Theodo FR%&f[deals.close_date]=1 week ago for 1 week&f[companies.name]=&sorts=deals_to_companies.list_of_companies desc&limit=500&column_limit=50&vis={\"type\":\"looker_grid\"}', 'fields=offers.offer_title,offers.owner,deals.deal_name,deal_owners.owner_name,offers_to_deals.offer_amount_in_euro,contacts.contact_list,deals_to_companies.list_of_companies&f[deals.is_won]=Yes&f[offers.is_wbr]=Yes&f[deals.startup]=%Theodo FR%&f[deals.close_date]=1 week ago for 1 week&f[companies.name]=&sorts=deals_to_companies.list_of_companies desc&limit=500&column_limit=50&vis={\"type\":\"looker_grid\"}', 'fields=offers.offer_title,offers.owner,deals.deal_name,deal_owners.owner_name,offers_to_deals.offer_amount_in_euro,contacts.contact_list,deals_to_companies.list_of_companies&f[deals.is_won]=Yes&f[offers.is_wbr]=Yes&f[deals.startup]=%Theodo FR%&f[deals.close_date]=1 week ago for 1 week&f[companies.name]=&sorts=deals_to_companies.list_of_companies desc&limit=500&column_limit=50&vis={\"type\":\"looker_grid\"}', 'fields=companies.name,deals.deal_name,deal_owners.owner_name,deals.days_lead_time,deals_to_companies.is_new_business,deals.total_amount,contacts.contact_list,offers_to_deals.list_of_offers,companies.client_category&f[deals.stage_name]=Column A&f[deals.startup]=Nimbleways&f[companies.client_category]=&sorts=deals.total_amount desc&limit=500&column_limit=50&total=on&vis={\"type\":\"looker_grid\"}', 'fields=companies.name,deals.deal_name,deal_owners.owner_name,deals.days_lead_time,deals_to_companies.is_new_business,deals.total_amount,contacts.contact_list,offers_to_deals.list_of_offers,companies.client_category&f[deals.stage_name]=Column A&f[deals.startup]=Nimbleways&f[companies.client_category]=&sorts=deals.total_amount desc&limit=500&column_limit=50&total=on&vis={\"type\":\"looker_grid\"}', 'fields=deals.deal_name,deals.close_date,deal_owners.owner_name,deals.amount,deals.hot_mild,deals.cloud_provider_of_the_project,deals.partner&f[deals.proposal_sent_month]=2023-10&limit=500', 'fields=companies.name,deals.deal_name,deal_owners.owner_name,deals.days_lead_time,deals_to_companies.is_new_business,deals.total_amount,contacts.contact_list,offers_to_deals.list_of_offers,companies.client_category&f[deals.close_date]=last week&f[deals.stage_name]=Lost&f[companies.name]=&f[companies.client_category]=&f[deals.startup]=&sorts=deals.total_amount desc&limit=500&column_limit=50&vis={\"type\":\"looker_grid\"}', 'fields=companies.name,deals.deal_name,deal_owners.owner_name,deals.days_lead_time,deals_to_companies.is_new_business,deals.total_amount,contacts.contact_list,offers_to_deals.list_of_offers,companies.client_category&f[deals.close_date]=last week&f[deals.stage_name]=Lost&f[companies.name]=&f[companies.client_category]=&f[deals.startup]=&sorts=deals.total_amount desc&limit=500&column_limit=50&vis={\"type\":\"looker_grid\"}', 'fields=companies.name,deals.deal_name,deal_owners.owner_name,deals.days_lead_time,deals_to_companies.is_new_business,deals.total_amount,contacts.contact_list,offers_to_deals.list_of_offers,companies.client_category&f[deals.stage_name]=Column B&f[deals.startup]=BAM&f[companies.client_category]=&sorts=deals.total_amount desc&limit=500&column_limit=50&total=on&vis={\"type\":\"looker_grid\"}', 'fields=companies.name,deals.deal_name,deal_owners.owner_name,deals.days_lead_time,deals_to_companies.is_new_business,deals.total_amount,contacts.contact_list,offers_to_deals.list_of_offers,companies.client_category&f[deals.stage_name]=Column B&f[deals.startup]=BAM&f[companies.client_category]=&sorts=deals.total_amount desc&limit=500&column_limit=50&total=on&vis={\"type\":\"looker_grid\"}', 'fields=deals.deal_name,companies.name,deal_owners.owner_name,deals.days_lead_time,deals.stage_name,deals.total_amount,contacts.contact_list,deals_to_companies.is_new_business,offers_to_deals.list_of_offers,companies.client_category&f[deals.close_date]=last week&f[deals.is_won]=Yes&f[deals.startup]=Theodo FR&f[companies.client_category]=&sorts=deals.total_amount desc 0&limit=500&column_limit=50&total=on&vis={\"type\":\"looker_grid\"}', 'fields=deals.deal_name,companies.name,deal_owners.owner_name,deals.days_lead_time,deals.stage_name,deals.total_amount,contacts.contact_list,deals_to_companies.is_new_business,offers_to_deals.list_of_offers,companies.client_category&f[deals.close_date]=last week&f[deals.is_won]=Yes&f[deals.startup]=Theodo FR&f[companies.client_category]=&sorts=deals.total_amount desc 0&limit=500&column_limit=50&total=on&vis={\"type\":\"looker_grid\"}', 'fields=deals.deal_name,companies.name,deal_owners.owner_name,deals.days_lead_time,deals.stage_name,deals.total_amount,contacts.contact_list,deals_to_companies.is_new_business,offers_to_deals.list_of_offers,companies.client_category&f[deals.close_date]=last week&f[deals.is_won]=Yes&f[deals.startup]=Theodo FR&f[companies.client_category]=&sorts=deals.total_amount desc 0&limit=500&column_limit=50&total=on&vis={\"type\":\"looker_grid\"}', 'fields=offers.offer_title,deal_owners.owner_name,deals.deal_name,companies.name,deals.partner,deals.stage_name,deals.hot_mild,deals.cloud_provider_of_the_project,offers_to_deals.offer_amount_in_euro,deals.close_date,deals.days_lead_time&f[deals.is_won]=No&f[deals.stage_name]=-Lead KO,-Lost&f[offers.offer_title]=Sicara - Data ESG&sorts=deals.close_date desc&limit=500&column_limit=50&vis={\"type\":\"looker_grid\"}', 'fields=offers.offer_title,deal_owners.owner_name,deals.deal_name,companies.name,deals.partner,deals.stage_name,deals.hot_mild,deals.cloud_provider_of_the_project,offers_to_deals.offer_amount_in_euro,deals.close_date,deals.days_lead_time&f[deals.is_won]=No&f[deals.stage_name]=-Lead KO,-Lost&f[offers.offer_title]=Sicara - Data ESG&sorts=deals.close_date desc&limit=500&column_limit=50&vis={\"type\":\"looker_grid\"}', 'fields=offers.offer_title,deal_owners.owner_name,deals.deal_name,companies.name,deals.partner,deals.stage_name,deals.hot_mild,deals.cloud_provider_of_the_project,offers_to_deals.offer_amount_in_euro,deals.close_date,deals.days_lead_time&f[deals.is_won]=No&f[deals.stage_name]=-Lead KO,-Lost&f[offers.offer_title]=Sicara - Data ESG&sorts=deals.close_date desc&limit=500&column_limit=50&vis={\"type\":\"looker_grid\"}', 'fields=offers.offer_title,offers.owner,deals.deal_name,deals_to_companies.list_of_companies,deal_owners.owner_name,offers_to_deals.offer_amount_in_euro&f[deals.is_won]=Yes&f[offers.is_wbr]=Yes&f[deals.startup]=Hokla,Theodo FR&f[deals.close_date]=1 week ago for 1 week&f[companies.name]=&sorts=deals_to_companies.list_of_companies desc 0&limit=500&column_limit=50&vis={\"type\":\"looker_grid\"}', 'fields=offers.offer_title,offers.owner,deals.deal_name,deals_to_companies.list_of_companies,deal_owners.owner_name,offers_to_deals.offer_amount_in_euro&f[deals.is_won]=Yes&f[offers.is_wbr]=Yes&f[deals.startup]=Hokla,Theodo FR&f[deals.close_date]=1 week ago for 1 week&f[companies.name]=&sorts=deals_to_companies.list_of_companies desc 0&limit=500&column_limit=50&vis={\"type\":\"looker_grid\"}', 'fields=companies.name,deals.deal_name,deal_owners.owner_name,deals.days_lead_time,deals_to_companies.is_new_business,deals.total_amount,contacts.contact_list,offers_to_deals.list_of_offers,companies.client_category&f[deals.stage_name]=Column B&f[deals.startup]=Theodo FR,Hokla&f[companies.client_category]=&f[companies.name]=-Bpifrance&sorts=deals.total_amount desc&limit=500&column_limit=50&total=on&vis={\"type\":\"looker_grid\"}', 'fields=companies.name,deals.deal_name,deal_owners.owner_name,deals.days_lead_time,deals_to_companies.is_new_business,deals.total_amount,contacts.contact_list,offers_to_deals.list_of_offers,companies.client_category&f[deals.stage_name]=Column B&f[deals.startup]=Theodo FR,Hokla&f[companies.client_category]=&f[companies.name]=-Bpifrance&sorts=deals.total_amount desc&limit=500&column_limit=50&total=on&vis={\"type\":\"looker_grid\"}', 'fields=companies.name,deals.deal_name,deal_owners.owner_name,deals.days_lead_time,deals_to_companies.is_new_business,deals.total_amount,contacts.contact_list,offers_to_deals.list_of_offers,companies.client_category&f[deals.close_date]=last week&f[deals.stage_name]=Lost&f[deals.startup]=Padok&f[companies.client_category]=&sorts=deals.total_amount desc&limit=500&column_limit=50&vis={\"type\":\"looker_grid\"}', 'fields=companies.name,deals.deal_name,deal_owners.owner_name,deals.days_lead_time,deals_to_companies.is_new_business,deals.total_amount,contacts.contact_list,offers_to_deals.list_of_offers,companies.client_category&f[deals.close_date]=last week&f[deals.stage_name]=Lost&f[deals.startup]=Padok&f[companies.client_category]=&sorts=deals.total_amount desc&limit=500&column_limit=50&vis={\"type\":\"looker_grid\"}', 'fields=companies.name,deals.deal_name,deal_owners.owner_name,deals.days_lead_time,deals_to_companies.is_new_business,deals.total_amount,contacts.contact_list,offers_to_deals.list_of_offers,companies.client_category&f[deals.close_date]=last week&f[deals.stage_name]=Lost&f[deals.startup]=Padok&f[companies.client_category]=&sorts=deals.total_amount desc&limit=500&column_limit=50&vis={\"type\":\"looker_grid\"}', 'fields=offers.offer_title,offers.owner,deals.deal_name,deal_owners.owner_name,offers_to_deals.offer_amount_in_euro,contacts.contact_list,deals_to_companies.list_of_companies&f[deals.is_won]=Yes&f[offers.is_wbr]=Yes&f[deals.startup]=%Theodo FR%&f[deals.close_date]=1 week ago for 1 week&f[companies.name]=&sorts=deals_to_companies.list_of_companies desc&limit=500&column_limit=50&vis={\"type\":\"looker_grid\"}', 'fields=offers.offer_title,offers.owner,deals.deal_name,deal_owners.owner_name,offers_to_deals.offer_amount_in_euro,contacts.contact_list,deals_to_companies.list_of_companies&f[deals.is_won]=Yes&f[offers.is_wbr]=Yes&f[deals.startup]=%Theodo FR%&f[deals.close_date]=1 week ago for 1 week&f[companies.name]=&sorts=deals_to_companies.list_of_companies desc&limit=500&column_limit=50&vis={\"type\":\"looker_grid\"}', 'fields=offers.offer_title,offers.owner,deals.deal_name,deal_owners.owner_name,offers_to_deals.offer_amount_in_euro,contacts.contact_list,deals_to_companies.list_of_companies&f[deals.is_won]=Yes&f[offers.is_wbr]=Yes&f[deals.startup]=%Theodo FR%&f[deals.close_date]=1 week ago for 1 week&f[companies.name]=&sorts=deals_to_companies.list_of_companies desc&limit=500&column_limit=50&vis={\"type\":\"looker_grid\"}', 'fields=companies.name,deals.deal_name,deal_owners.owner_name,deals.days_lead_time,deals_to_companies.is_new_business,deals.total_amount,contacts.contact_list,offers_to_deals.list_of_offers,companies.client_category&f[deals.stage_name]=Column A&f[deals.startup]=Nimbleways&f[companies.client_category]=&sorts=deals.total_amount desc&limit=500&column_limit=50&total=on&vis={\"type\":\"looker_grid\"}', 'fields=companies.name,deals.deal_name,deal_owners.owner_name,deals.days_lead_time,deals_to_companies.is_new_business,deals.total_amount,contacts.contact_list,offers_to_deals.list_of_offers,companies.client_category&f[deals.stage_name]=Column A&f[deals.startup]=Nimbleways&f[companies.client_category]=&sorts=deals.total_amount desc&limit=500&column_limit=50&total=on&vis={\"type\":\"looker_grid\"}', 'fields=deals.deal_name,deals.close_date,deal_owners.owner_name,deals.amount,deals.hot_mild,deals.cloud_provider_of_the_project,deals.partner&f[deals.proposal_sent_month]=2023-10&limit=500', 'fields=companies.name,deals.deal_name,deal_owners.owner_name,deals.days_lead_time,deals_to_companies.is_new_business,deals.total_amount,contacts.contact_list,offers_to_deals.list_of_offers,companies.client_category&f[deals.close_date]=last week&f[deals.stage_name]=Lost&f[companies.name]=&f[companies.client_category]=&f[deals.startup]=&sorts=deals.total_amount desc&limit=500&column_limit=50&vis={\"type\":\"looker_grid\"}', 'fields=companies.name,deals.deal_name,deal_owners.owner_name,deals.days_lead_time,deals_to_companies.is_new_business,deals.total_amount,contacts.contact_list,offers_to_deals.list_of_offers,companies.client_category&f[deals.close_date]=last week&f[deals.stage_name]=Lost&f[companies.name]=&f[companies.client_category]=&f[deals.startup]=&sorts=deals.total_amount desc&limit=500&column_limit=50&vis={\"type\":\"looker_grid\"}', 'fields=companies.name,deals.deal_name,deal_owners.owner_name,deals.days_lead_time,deals_to_companies.is_new_business,deals.total_amount,contacts.contact_list,offers_to_deals.list_of_offers,companies.client_category&f[deals.stage_name]=Column B&f[deals.startup]=BAM&f[companies.client_category]=&sorts=deals.total_amount desc&limit=500&column_limit=50&total=on&vis={\"type\":\"looker_grid\"}', 'fields=companies.name,deals.deal_name,deal_owners.owner_name,deals.days_lead_time,deals_to_companies.is_new_business,deals.total_amount,contacts.contact_list,offers_to_deals.list_of_offers,companies.client_category&f[deals.stage_name]=Column B&f[deals.startup]=BAM&f[companies.client_category]=&sorts=deals.total_amount desc&limit=500&column_limit=50&total=on&vis={\"type\":\"looker_grid\"}', 'fields=deals.deal_name,companies.name,deal_owners.owner_name,deals.days_lead_time,deals.stage_name,deals.total_amount,contacts.contact_list,deals_to_companies.is_new_business,offers_to_deals.list_of_offers,companies.client_category&f[deals.close_date]=last week&f[deals.is_won]=Yes&f[deals.startup]=Theodo FR&f[companies.client_category]=&sorts=deals.total_amount desc 0&limit=500&column_limit=50&total=on&vis={\"type\":\"looker_grid\"}', 'fields=deals.deal_name,companies.name,deal_owners.owner_name,deals.days_lead_time,deals.stage_name,deals.total_amount,contacts.contact_list,deals_to_companies.is_new_business,offers_to_deals.list_of_offers,companies.client_category&f[deals.close_date]=last week&f[deals.is_won]=Yes&f[deals.startup]=Theodo FR&f[companies.client_category]=&sorts=deals.total_amount desc 0&limit=500&column_limit=50&total=on&vis={\"type\":\"looker_grid\"}', 'fields=deals.deal_name,companies.name,deal_owners.owner_name,deals.days_lead_time,deals.stage_name,deals.total_amount,contacts.contact_list,deals_to_companies.is_new_business,offers_to_deals.list_of_offers,companies.client_category&f[deals.close_date]=last week&f[deals.is_won]=Yes&f[deals.startup]=Theodo FR&f[companies.client_category]=&sorts=deals.total_amount desc 0&limit=500&column_limit=50&total=on&vis={\"type\":\"looker_grid\"}', 'fields=offers.offer_title,deal_owners.owner_name,deals.deal_name,companies.name,deals.partner,deals.stage_name,deals.hot_mild,deals.cloud_provider_of_the_project,offers_to_deals.offer_amount_in_euro,deals.close_date,deals.days_lead_time&f[deals.is_won]=No&f[deals.stage_name]=-Lead KO,-Lost&f[offers.offer_title]=Sicara - Data ESG&sorts=deals.close_date desc&limit=500&column_limit=50&vis={\"type\":\"looker_grid\"}', 'fields=offers.offer_title,deal_owners.owner_name,deals.deal_name,companies.name,deals.partner,deals.stage_name,deals.hot_mild,deals.cloud_provider_of_the_project,offers_to_deals.offer_amount_in_euro,deals.close_date,deals.days_lead_time&f[deals.is_won]=No&f[deals.stage_name]=-Lead KO,-Lost&f[offers.offer_title]=Sicara - Data ESG&sorts=deals.close_date desc&limit=500&column_limit=50&vis={\"type\":\"looker_grid\"}', 'fields=offers.offer_title,deal_owners.owner_name,deals.deal_name,companies.name,deals.partner,deals.stage_name,deals.hot_mild,deals.cloud_provider_of_the_project,offers_to_deals.offer_amount_in_euro,deals.close_date,deals.days_lead_time&f[deals.is_won]=No&f[deals.stage_name]=-Lead KO,-Lost&f[offers.offer_title]=Sicara - Data ESG&sorts=deals.close_date desc&limit=500&column_limit=50&vis={\"type\":\"looker_grid\"}', 'fields=offers.offer_title,offers.owner,deals.deal_name,deals_to_companies.list_of_companies,deal_owners.owner_name,offers_to_deals.offer_amount_in_euro&f[deals.is_won]=Yes&f[offers.is_wbr]=Yes&f[deals.startup]=Hokla,Theodo FR&f[deals.close_date]=1 week ago for 1 week&f[companies.name]=&sorts=deals_to_companies.list_of_companies desc 0&limit=500&column_limit=50&vis={\"type\":\"looker_grid\"}', 'fields=offers.offer_title,offers.owner,deals.deal_name,deals_to_companies.list_of_companies,deal_owners.owner_name,offers_to_deals.offer_amount_in_euro&f[deals.is_won]=Yes&f[offers.is_wbr]=Yes&f[deals.startup]=Hokla,Theodo FR&f[deals.close_date]=1 week ago for 1 week&f[companies.name]=&sorts=deals_to_companies.list_of_companies desc 0&limit=500&column_limit=50&vis={\"type\":\"looker_grid\"}', 'fields=companies.name,deals.deal_name,deal_owners.owner_name,deals.days_lead_time,deals_to_companies.is_new_business,deals.total_amount,contacts.contact_list,offers_to_deals.list_of_offers,companies.client_category&f[deals.stage_name]=Column B&f[deals.startup]=Theodo FR,Hokla&f[companies.client_category]=&f[companies.name]=-Bpifrance&sorts=deals.total_amount desc&limit=500&column_limit=50&total=on&vis={\"type\":\"looker_grid\"}', 'fields=companies.name,deals.deal_name,deal_owners.owner_name,deals.days_lead_time,deals_to_companies.is_new_business,deals.total_amount,contacts.contact_list,offers_to_deals.list_of_offers,companies.client_category&f[deals.stage_name]=Column B&f[deals.startup]=Theodo FR,Hokla&f[companies.client_category]=&f[companies.name]=-Bpifrance&sorts=deals.total_amount desc&limit=500&column_limit=50&total=on&vis={\"type\":\"looker_grid\"}', 'fields=companies.name,deals.deal_name,deal_owners.owner_name,deals.days_lead_time,deals_to_companies.is_new_business,deals.total_amount,contacts.contact_list,offers_to_deals.list_of_offers,companies.client_category&f[deals.close_date]=last week&f[deals.stage_name]=Lost&f[deals.startup]=Padok&f[companies.client_category]=&sorts=deals.total_amount desc&limit=500&column_limit=50&vis={\"type\":\"looker_grid\"}', 'fields=companies.name,deals.deal_name,deal_owners.owner_name,deals.days_lead_time,deals_to_companies.is_new_business,deals.total_amount,contacts.contact_list,offers_to_deals.list_of_offers,companies.client_category&f[deals.close_date]=last week&f[deals.stage_name]=Lost&f[deals.startup]=Padok&f[companies.client_category]=&sorts=deals.total_amount desc&limit=500&column_limit=50&vis={\"type\":\"looker_grid\"}', 'fields=companies.name,deals.deal_name,deal_owners.owner_name,deals.days_lead_time,deals_to_companies.is_new_business,deals.total_amount,contacts.contact_list,offers_to_deals.list_of_offers,companies.client_category&f[deals.close_date]=last week&f[deals.stage_name]=Lost&f[deals.startup]=Padok&f[companies.client_category]=&sorts=deals.total_amount desc&limit=500&column_limit=50&vis={\"type\":\"looker_grid\"}', 'fields=offers.offer_title,offers.owner,deals.deal_name,deal_owners.owner_name,offers_to_deals.offer_amount_in_euro,contacts.contact_list,deals_to_companies.list_of_companies&f[deals.is_won]=Yes&f[offers.is_wbr]=Yes&f[deals.startup]=%Theodo FR%&f[deals.close_date]=1 week ago for 1 week&f[companies.name]=&sorts=deals_to_companies.list_of_companies desc&limit=500&column_limit=50&vis={\"type\":\"looker_grid\"}', 'fields=offers.offer_title,offers.owner,deals.deal_name,deal_owners.owner_name,offers_to_deals.offer_amount_in_euro,contacts.contact_list,deals_to_companies.list_of_companies&f[deals.is_won]=Yes&f[offers.is_wbr]=Yes&f[deals.startup]=%Theodo FR%&f[deals.close_date]=1 week ago for 1 week&f[companies.name]=&sorts=deals_to_companies.list_of_companies desc&limit=500&column_limit=50&vis={\"type\":\"looker_grid\"}', 'fields=offers.offer_title,offers.owner,deals.deal_name,deal_owners.owner_name,offers_to_deals.offer_amount_in_euro,contacts.contact_list,deals_to_companies.list_of_companies&f[deals.is_won]=Yes&f[offers.is_wbr]=Yes&f[deals.startup]=%Theodo FR%&f[deals.close_date]=1 week ago for 1 week&f[companies.name]=&sorts=deals_to_companies.list_of_companies desc&limit=500&column_limit=50&vis={\"type\":\"looker_grid\"}', 'fields=companies.name,deals.deal_name,deal_owners.owner_name,deals.days_lead_time,deals_to_companies.is_new_business,deals.total_amount,contacts.contact_list,offers_to_deals.list_of_offers,companies.client_category&f[deals.stage_name]=Column A&f[deals.startup]=Nimbleways&f[companies.client_category]=&sorts=deals.total_amount desc&limit=500&column_limit=50&total=on&vis={\"type\":\"looker_grid\"}', 'fields=companies.name,deals.deal_name,deal_owners.owner_name,deals.days_lead_time,deals_to_companies.is_new_business,deals.total_amount,contacts.contact_list,offers_to_deals.list_of_offers,companies.client_category&f[deals.stage_name]=Column A&f[deals.startup]=Nimbleways&f[companies.client_category]=&sorts=deals.total_amount desc&limit=500&column_limit=50&total=on&vis={\"type\":\"looker_grid\"}', 'fields=deals.deal_name,deals.close_date,deal_owners.owner_name,deals.amount,deals.hot_mild,deals.cloud_provider_of_the_project,deals.partner&f[deals.proposal_sent_month]=2023-10&limit=500', 'fields=companies.name,deals.deal_name,deal_owners.owner_name,deals.days_lead_time,deals_to_companies.is_new_business,deals.total_amount,contacts.contact_list,offers_to_deals.list_of_offers,companies.client_category&f[deals.close_date]=last week&f[deals.stage_name]=Lost&f[companies.name]=&f[companies.client_category]=&f[deals.startup]=&sorts=deals.total_amount desc&limit=500&column_limit=50&vis={\"type\":\"looker_grid\"}', 'fields=companies.name,deals.deal_name,deal_owners.owner_name,deals.days_lead_time,deals_to_companies.is_new_business,deals.total_amount,contacts.contact_list,offers_to_deals.list_of_offers,companies.client_category&f[deals.close_date]=last week&f[deals.stage_name]=Lost&f[companies.name]=&f[companies.client_category]=&f[deals.startup]=&sorts=deals.total_amount desc&limit=500&column_limit=50&vis={\"type\":\"looker_grid\"}', 'fields=companies.name,deals.deal_name,deal_owners.owner_name,deals.days_lead_time,deals_to_companies.is_new_business,deals.total_amount,contacts.contact_list,offers_to_deals.list_of_offers,companies.client_category&f[deals.stage_name]=Column B&f[deals.startup]=BAM&f[companies.client_category]=&sorts=deals.total_amount desc&limit=500&column_limit=50&total=on&vis={\"type\":\"looker_grid\"}', 'fields=companies.name,deals.deal_name,deal_owners.owner_name,deals.days_lead_time,deals_to_companies.is_new_business,deals.total_amount,contacts.contact_list,offers_to_deals.list_of_offers,companies.client_category&f[deals.stage_name]=Column B&f[deals.startup]=BAM&f[companies.client_category]=&sorts=deals.total_amount desc&limit=500&column_limit=50&total=on&vis={\"type\":\"looker_grid\"}', 'fields=deals.deal_name,companies.name,deal_owners.owner_name,deals.days_lead_time,deals.stage_name,deals.total_amount,contacts.contact_list,deals_to_companies.is_new_business,offers_to_deals.list_of_offers,companies.client_category&f[deals.close_date]=last week&f[deals.is_won]=Yes&f[deals.startup]=Theodo FR&f[companies.client_category]=&sorts=deals.total_amount desc 0&limit=500&column_limit=50&total=on&vis={\"type\":\"looker_grid\"}', 'fields=deals.deal_name,companies.name,deal_owners.owner_name,deals.days_lead_time,deals.stage_name,deals.total_amount,contacts.contact_list,deals_to_companies.is_new_business,offers_to_deals.list_of_offers,companies.client_category&f[deals.close_date]=last week&f[deals.is_won]=Yes&f[deals.startup]=Theodo FR&f[companies.client_category]=&sorts=deals.total_amount desc 0&limit=500&column_limit=50&total=on&vis={\"type\":\"looker_grid\"}', 'fields=deals.deal_name,companies.name,deal_owners.owner_name,deals.days_lead_time,deals.stage_name,deals.total_amount,contacts.contact_list,deals_to_companies.is_new_business,offers_to_deals.list_of_offers,companies.client_category&f[deals.close_date]=last week&f[deals.is_won]=Yes&f[deals.startup]=Theodo FR&f[companies.client_category]=&sorts=deals.total_amount desc 0&limit=500&column_limit=50&total=on&vis={\"type\":\"looker_grid\"}'], 'string_multiple': ['fields=offers.offer_title,offers.owner,deals.deal_name,deals_to_companies.list_of_companies,deal_owners.owner_name,offers_to_deals.offer_amount_in_euro&f[deals.is_won]=Yes&f[offers.is_wbr]=Yes&f[deals.startup]=Hokla,Theodo FR&f[deals.close_date]=1 week ago for 1 week&f[companies.name]=&sorts=deals_to_companies.list_of_companies desc 0&limit=500&column_limit=50&vis={\"type\":\"looker_grid\"}', 'fields=companies.name,deals.deal_name,deal_owners.owner_name,deals.days_lead_time,deals_to_companies.is_new_business,deals.total_amount,contacts.contact_list,offers_to_deals.list_of_offers,companies.client_category&f[deals.stage_name]=Column B&f[deals.startup]=Theodo FR,Hokla&f[companies.client_category]=&f[companies.name]=-Bpifrance&sorts=deals.total_amount desc&limit=500&column_limit=50&total=on&vis={\"type\":\"looker_grid\"}', 'fields=offers.offer_title,offers.owner,deals.deal_name,deals_to_companies.list_of_companies,deal_owners.owner_name,offers_to_deals.offer_amount_in_euro&f[deals.is_won]=Yes&f[offers.is_wbr]=Yes&f[deals.startup]=Hokla,Theodo FR&f[deals.close_date]=1 week ago for 1 week&f[companies.name]=&sorts=deals_to_companies.list_of_companies desc 0&limit=500&column_limit=50&vis={\"type\":\"looker_grid\"}', 'fields=companies.name,deals.deal_name,deal_owners.owner_name,deals.days_lead_time,deals_to_companies.is_new_business,deals.total_amount,contacts.contact_list,offers_to_deals.list_of_offers,companies.client_category&f[deals.stage_name]=Column B&f[deals.startup]=Theodo FR,Hokla&f[companies.client_category]=&f[companies.name]=-Bpifrance&sorts=deals.total_amount desc&limit=500&column_limit=50&total=on&vis={\"type\":\"looker_grid\"}', 'fields=offers.offer_title,offers.owner,deals.deal_name,deals_to_companies.list_of_companies,deal_owners.owner_name,offers_to_deals.offer_amount_in_euro&f[deals.is_won]=Yes&f[offers.is_wbr]=Yes&f[deals.startup]=Hokla,Theodo FR&f[deals.close_date]=1 week ago for 1 week&f[companies.name]=&sorts=deals_to_companies.list_of_companies desc 0&limit=500&column_limit=50&vis={\"type\":\"looker_grid\"}', 'fields=companies.name,deals.deal_name,deal_owners.owner_name,deals.days_lead_time,deals_to_companies.is_new_business,deals.total_amount,contacts.contact_list,offers_to_deals.list_of_offers,companies.client_category&f[deals.stage_name]=Column B&f[deals.startup]=Theodo FR,Hokla&f[companies.client_category]=&f[companies.name]=-Bpifrance&sorts=deals.total_amount desc&limit=500&column_limit=50&total=on&vis={\"type\":\"looker_grid\"}'], 'time_range': ['fields=offers.offer_title,offers.owner,deals.deal_name,deals_to_companies.list_of_companies,deal_owners.owner_name,offers_to_deals.offer_amount_in_euro&f[deals.is_won]=Yes&f[offers.is_wbr]=Yes&f[deals.startup]=Hokla,Theodo FR&f[deals.close_date]=1 week ago for 1 week&f[companies.name]=&sorts=deals_to_companies.list_of_companies desc 0&limit=500&column_limit=50&vis={\"type\":\"looker_grid\"}', 'fields=offers.offer_title,offers.owner,deals.deal_name,deal_owners.owner_name,offers_to_deals.offer_amount_in_euro,contacts.contact_list,deals_to_companies.list_of_companies&f[deals.is_won]=Yes&f[offers.is_wbr]=Yes&f[deals.startup]=%Theodo FR%&f[deals.close_date]=1 week ago for 1 week&f[companies.name]=&sorts=deals_to_companies.list_of_companies desc&limit=500&column_limit=50&vis={\"type\":\"looker_grid\"}', 'fields=offers.offer_title,offers.owner,deals.deal_name,deals_to_companies.list_of_companies,deal_owners.owner_name,offers_to_deals.offer_amount_in_euro&f[deals.is_won]=Yes&f[offers.is_wbr]=Yes&f[deals.startup]=Hokla,Theodo FR&f[deals.close_date]=1 week ago for 1 week&f[companies.name]=&sorts=deals_to_companies.list_of_companies desc 0&limit=500&column_limit=50&vis={\"type\":\"looker_grid\"}', 'fields=offers.offer_title,offers.owner,deals.deal_name,deal_owners.owner_name,offers_to_deals.offer_amount_in_euro,contacts.contact_list,deals_to_companies.list_of_companies&f[deals.is_won]=Yes&f[offers.is_wbr]=Yes&f[deals.startup]=%Theodo FR%&f[deals.close_date]=1 week ago for 1 week&f[companies.name]=&sorts=deals_to_companies.list_of_companies desc&limit=500&column_limit=50&vis={\"type\":\"looker_grid\"}', 'fields=offers.offer_title,offers.owner,deals.deal_name,deals_to_companies.list_of_companies,deal_owners.owner_name,offers_to_deals.offer_amount_in_euro&f[deals.is_won]=Yes&f[offers.is_wbr]=Yes&f[deals.startup]=Hokla,Theodo FR&f[deals.close_date]=1 week ago for 1 week&f[companies.name]=&sorts=deals_to_companies.list_of_companies desc 0&limit=500&column_limit=50&vis={\"type\":\"looker_grid\"}', 'fields=offers.offer_title,offers.owner,deals.deal_name,deal_owners.owner_name,offers_to_deals.offer_amount_in_euro,contacts.contact_list,deals_to_companies.list_of_companies&f[deals.is_won]=Yes&f[offers.is_wbr]=Yes&f[deals.startup]=%Theodo FR%&f[deals.close_date]=1 week ago for 1 week&f[companies.name]=&sorts=deals_to_companies.list_of_companies desc&limit=500&column_limit=50&vis={\"type\":\"looker_grid\"}']}}\n"
          ]
        }
      ],
      "source": [
        "data = fetchQueryUrlMetadata('deals')\n",
        "# categorization =\n",
        "categorized_queries = explore_url_categorization(data)\n",
        "\n",
        "print(categorized_queries)"
      ]
    },
    {
      "cell_type": "code",
      "execution_count": 42,
      "metadata": {
        "id": "-oZF3NKCyJPZ"
      },
      "outputs": [
        {
          "name": "stdout",
          "output_type": "stream",
          "text": [
            "What are the names of the deals that were lost or in the Lead KO stage, and which companies were involved? \n",
            "\n",
            "What are the names of the offers, owners, deals, companies, and deal owners for deals won by Hokla and Theodo FR in the past week, along with the offer amount in euros? \n",
            "\n",
            "What are the names of the companies, deals, and deal owners, along with the lead time, new business status, total amount, contact list, list of offers, and client category, for deals in stage Column B, for startups Theodo FR and Hokla, excluding Bpifrance, sorted by total amount in descending order, with a limit of 500 results? \n",
            "\n",
            "Which deals were lost or in the Lead KO stage that included the Sicara - Data ESG offer? \n",
            "\n",
            "What are the names of the companies, deals, and deal owners, along with the lead time, new business status, total amount, contact list, list of offers, and client category, for deals in stage Column B, for startups Theodo FR and Hokla, excluding Bpifrance, sorted by total amount descending, with a limit of 500 results? \n",
            "\n",
            "What were the top 5 deals lost last week by Padok, broken down by client category? \n",
            "\n",
            "What are the names of the deals that were lost or in the Lead KO stage, and what was the offer amount for Sicara - Data ESG? \n",
            "\n",
            "What deals were won by Hokla or Theodo FR in the past week, and what offers were associated with those deals? \n",
            "\n",
            "What are the top 500 deals by total amount for Theodo FR and Hokla startups, excluding Bpifrance, categorized by client category? \n",
            "\n",
            "Which deals did not include the \"Sicara - Data ESG\" offer, were not won, and are not in the Lead KO or Lost stage? \n",
            "\n",
            "What are the names of the deals that were lost or in the Lead KO stage, and what was the offer amount in euros for the Sicara - Data ESG offer? \n",
            "\n",
            "What are the names of the deals that were not won, are not in the Lead KO or Lost stages, and are associated with the Sicara - Data ESG offer? \n",
            "\n",
            "What deals were won by Hokla or Theodo FR in the last week, and what offers were associated with those deals? \n",
            "\n",
            "What are the top 500 deals by total amount for Theodo FR and Hokla startups that are not Bpifrance, sorted by total amount descending, and including the company name, deal name, owner name, days lead time, new business flag, total amount, contact list, list of offers, and client category? \n",
            "\n",
            "What are the names of the offers, owners, and deals that were won by Hokla and Theodo FR in the past week, along with the list of companies involved and the offer amount in euros? \n",
            "\n",
            "What are the names of the offers, owners, deals, companies, and deal owners for deals won by Hokla and Theodo FR in the past week, along with the offer amount in euros? \n",
            "\n",
            "What deals were won by Thedo FR in the past week, and what offers were associated with those deals? \n",
            "\n",
            "What are the names of the deals that were won by Hokla or Theodo FR in the past week, and who are the owners of those deals? \n",
            "\n"
          ]
        }
      ],
      "source": [
        "url_prompts = []\n",
        "\n",
        "for key in categorized_queries.keys():\n",
        "  if type(categorized_queries[key]) == list:\n",
        "    for url in categorized_queries[key][0:3]:\n",
        "      input = generate_input(url)\n",
        "      print(input)\n",
        "      url_prompts.append(json.dumps({\"input\": input, \"output\": url}) + '\\n')\n",
        "\n",
        "  else:\n",
        "    for key2 in categorized_queries[key].keys():\n",
        "      for url in categorized_queries[key][key2][0:3]:\n",
        "        input = generate_input(url)\n",
        "        print(input)\n",
        "        url_prompts.append(json.dumps({\"input\": input, \"output\": url}) + '\\n')\n",
        "\n",
        "\n",
        "with open(\"./examples.jsonl\", \"a\") as f:\n",
        "  f.writelines(url_prompts)"
      ]
    }
  ],
  "metadata": {
    "colab": {
      "collapsed_sections": [
        "B8GHaG2hz4Dr",
        "H8hSwYQ00HIU",
        "_LwTOEam3Fht",
        "jzYmIxOa5Ghm"
      ],
      "provenance": []
    },
    "kernelspec": {
      "display_name": "Python 3",
      "name": "python3"
    },
    "language_info": {
      "codemirror_mode": {
        "name": "ipython",
        "version": 3
      },
      "file_extension": ".py",
      "mimetype": "text/x-python",
      "name": "python",
      "nbconvert_exporter": "python",
      "pygments_lexer": "ipython3",
      "version": "3.12.0"
    }
  },
  "nbformat": 4,
  "nbformat_minor": 0
}
